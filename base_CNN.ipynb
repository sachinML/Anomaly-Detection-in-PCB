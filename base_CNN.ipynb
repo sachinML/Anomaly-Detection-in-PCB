{
 "cells": [
  {
   "cell_type": "code",
   "execution_count": 1,
   "metadata": {
    "colab": {
     "base_uri": "https://localhost:8080/"
    },
    "id": "4R8jhi8OJ0AZ",
    "outputId": "2a9017a4-f210-43cb-982b-0809b1292573"
   },
   "outputs": [
    {
     "name": "stdout",
     "output_type": "stream",
     "text": [
      "Thu Mar 10 00:45:53 2022       \n",
      "+-----------------------------------------------------------------------------+\n",
      "| NVIDIA-SMI 460.32.03    Driver Version: 460.32.03    CUDA Version: 11.2     |\n",
      "|-------------------------------+----------------------+----------------------+\n",
      "| GPU  Name        Persistence-M| Bus-Id        Disp.A | Volatile Uncorr. ECC |\n",
      "| Fan  Temp  Perf  Pwr:Usage/Cap|         Memory-Usage | GPU-Util  Compute M. |\n",
      "|                               |                      |               MIG M. |\n",
      "|===============================+======================+======================|\n",
      "|   0  Tesla K80           Off  | 00000000:00:04.0 Off |                    0 |\n",
      "| N/A   49C    P8    29W / 149W |      0MiB / 11441MiB |      0%      Default |\n",
      "|                               |                      |                  N/A |\n",
      "+-------------------------------+----------------------+----------------------+\n",
      "                                                                               \n",
      "+-----------------------------------------------------------------------------+\n",
      "| Processes:                                                                  |\n",
      "|  GPU   GI   CI        PID   Type   Process name                  GPU Memory |\n",
      "|        ID   ID                                                   Usage      |\n",
      "|=============================================================================|\n",
      "|  No running processes found                                                 |\n",
      "+-----------------------------------------------------------------------------+\n"
     ]
    }
   ],
   "source": [
    "!nvidia-smi"
   ]
  },
  {
   "cell_type": "code",
   "execution_count": 2,
   "metadata": {
    "colab": {
     "base_uri": "https://localhost:8080/",
     "height": 1000
    },
    "id": "szpc2Z2zJ_Fa",
    "outputId": "9cb6fd93-5082-4479-bf11-5a0883c36f2f",
    "scrolled": true
   },
   "outputs": [
    {
     "name": "stdout",
     "output_type": "stream",
     "text": [
      "Collecting tensorflow==2.3.0\n",
      "  Downloading tensorflow-2.3.0-cp37-cp37m-manylinux2010_x86_64.whl (320.4 MB)\n",
      "\u001b[K     |████████████████████████████████| 320.4 MB 54 kB/s \n",
      "\u001b[?25hRequirement already satisfied: scipy==1.4.1 in /usr/local/lib/python3.7/dist-packages (from tensorflow==2.3.0) (1.4.1)\n",
      "Requirement already satisfied: absl-py>=0.7.0 in /usr/local/lib/python3.7/dist-packages (from tensorflow==2.3.0) (1.0.0)\n",
      "Collecting gast==0.3.3\n",
      "  Downloading gast-0.3.3-py2.py3-none-any.whl (9.7 kB)\n",
      "Requirement already satisfied: protobuf>=3.9.2 in /usr/local/lib/python3.7/dist-packages (from tensorflow==2.3.0) (3.17.3)\n",
      "Collecting h5py<2.11.0,>=2.10.0\n",
      "  Downloading h5py-2.10.0-cp37-cp37m-manylinux1_x86_64.whl (2.9 MB)\n",
      "\u001b[K     |████████████████████████████████| 2.9 MB 32.5 MB/s \n",
      "\u001b[?25hRequirement already satisfied: grpcio>=1.8.6 in /usr/local/lib/python3.7/dist-packages (from tensorflow==2.3.0) (1.44.0)\n",
      "Requirement already satisfied: termcolor>=1.1.0 in /usr/local/lib/python3.7/dist-packages (from tensorflow==2.3.0) (1.1.0)\n",
      "Requirement already satisfied: six>=1.12.0 in /usr/local/lib/python3.7/dist-packages (from tensorflow==2.3.0) (1.15.0)\n",
      "Requirement already satisfied: opt-einsum>=2.3.2 in /usr/local/lib/python3.7/dist-packages (from tensorflow==2.3.0) (3.3.0)\n",
      "Requirement already satisfied: google-pasta>=0.1.8 in /usr/local/lib/python3.7/dist-packages (from tensorflow==2.3.0) (0.2.0)\n",
      "Collecting tensorflow-estimator<2.4.0,>=2.3.0\n",
      "  Downloading tensorflow_estimator-2.3.0-py2.py3-none-any.whl (459 kB)\n",
      "\u001b[K     |████████████████████████████████| 459 kB 46.7 MB/s \n",
      "\u001b[?25hRequirement already satisfied: wheel>=0.26 in /usr/local/lib/python3.7/dist-packages (from tensorflow==2.3.0) (0.37.1)\n",
      "Collecting numpy<1.19.0,>=1.16.0\n",
      "  Downloading numpy-1.18.5-cp37-cp37m-manylinux1_x86_64.whl (20.1 MB)\n",
      "\u001b[K     |████████████████████████████████| 20.1 MB 64.3 MB/s \n",
      "\u001b[?25hRequirement already satisfied: wrapt>=1.11.1 in /usr/local/lib/python3.7/dist-packages (from tensorflow==2.3.0) (1.13.3)\n",
      "Requirement already satisfied: keras-preprocessing<1.2,>=1.1.1 in /usr/local/lib/python3.7/dist-packages (from tensorflow==2.3.0) (1.1.2)\n",
      "Requirement already satisfied: astunparse==1.6.3 in /usr/local/lib/python3.7/dist-packages (from tensorflow==2.3.0) (1.6.3)\n",
      "Requirement already satisfied: tensorboard<3,>=2.3.0 in /usr/local/lib/python3.7/dist-packages (from tensorflow==2.3.0) (2.8.0)\n",
      "Requirement already satisfied: google-auth-oauthlib<0.5,>=0.4.1 in /usr/local/lib/python3.7/dist-packages (from tensorboard<3,>=2.3.0->tensorflow==2.3.0) (0.4.6)\n",
      "Requirement already satisfied: google-auth<3,>=1.6.3 in /usr/local/lib/python3.7/dist-packages (from tensorboard<3,>=2.3.0->tensorflow==2.3.0) (1.35.0)\n",
      "Requirement already satisfied: werkzeug>=0.11.15 in /usr/local/lib/python3.7/dist-packages (from tensorboard<3,>=2.3.0->tensorflow==2.3.0) (1.0.1)\n",
      "Requirement already satisfied: setuptools>=41.0.0 in /usr/local/lib/python3.7/dist-packages (from tensorboard<3,>=2.3.0->tensorflow==2.3.0) (57.4.0)\n",
      "Requirement already satisfied: tensorboard-data-server<0.7.0,>=0.6.0 in /usr/local/lib/python3.7/dist-packages (from tensorboard<3,>=2.3.0->tensorflow==2.3.0) (0.6.1)\n",
      "Requirement already satisfied: requests<3,>=2.21.0 in /usr/local/lib/python3.7/dist-packages (from tensorboard<3,>=2.3.0->tensorflow==2.3.0) (2.23.0)\n",
      "Requirement already satisfied: tensorboard-plugin-wit>=1.6.0 in /usr/local/lib/python3.7/dist-packages (from tensorboard<3,>=2.3.0->tensorflow==2.3.0) (1.8.1)\n",
      "Requirement already satisfied: markdown>=2.6.8 in /usr/local/lib/python3.7/dist-packages (from tensorboard<3,>=2.3.0->tensorflow==2.3.0) (3.3.6)\n",
      "Requirement already satisfied: pyasn1-modules>=0.2.1 in /usr/local/lib/python3.7/dist-packages (from google-auth<3,>=1.6.3->tensorboard<3,>=2.3.0->tensorflow==2.3.0) (0.2.8)\n",
      "Requirement already satisfied: cachetools<5.0,>=2.0.0 in /usr/local/lib/python3.7/dist-packages (from google-auth<3,>=1.6.3->tensorboard<3,>=2.3.0->tensorflow==2.3.0) (4.2.4)\n",
      "Requirement already satisfied: rsa<5,>=3.1.4 in /usr/local/lib/python3.7/dist-packages (from google-auth<3,>=1.6.3->tensorboard<3,>=2.3.0->tensorflow==2.3.0) (4.8)\n",
      "Requirement already satisfied: requests-oauthlib>=0.7.0 in /usr/local/lib/python3.7/dist-packages (from google-auth-oauthlib<0.5,>=0.4.1->tensorboard<3,>=2.3.0->tensorflow==2.3.0) (1.3.1)\n",
      "Requirement already satisfied: importlib-metadata>=4.4 in /usr/local/lib/python3.7/dist-packages (from markdown>=2.6.8->tensorboard<3,>=2.3.0->tensorflow==2.3.0) (4.11.2)\n",
      "Requirement already satisfied: typing-extensions>=3.6.4 in /usr/local/lib/python3.7/dist-packages (from importlib-metadata>=4.4->markdown>=2.6.8->tensorboard<3,>=2.3.0->tensorflow==2.3.0) (3.10.0.2)\n",
      "Requirement already satisfied: zipp>=0.5 in /usr/local/lib/python3.7/dist-packages (from importlib-metadata>=4.4->markdown>=2.6.8->tensorboard<3,>=2.3.0->tensorflow==2.3.0) (3.7.0)\n",
      "Requirement already satisfied: pyasn1<0.5.0,>=0.4.6 in /usr/local/lib/python3.7/dist-packages (from pyasn1-modules>=0.2.1->google-auth<3,>=1.6.3->tensorboard<3,>=2.3.0->tensorflow==2.3.0) (0.4.8)\n",
      "Requirement already satisfied: urllib3!=1.25.0,!=1.25.1,<1.26,>=1.21.1 in /usr/local/lib/python3.7/dist-packages (from requests<3,>=2.21.0->tensorboard<3,>=2.3.0->tensorflow==2.3.0) (1.24.3)\n",
      "Requirement already satisfied: idna<3,>=2.5 in /usr/local/lib/python3.7/dist-packages (from requests<3,>=2.21.0->tensorboard<3,>=2.3.0->tensorflow==2.3.0) (2.10)\n",
      "Requirement already satisfied: certifi>=2017.4.17 in /usr/local/lib/python3.7/dist-packages (from requests<3,>=2.21.0->tensorboard<3,>=2.3.0->tensorflow==2.3.0) (2021.10.8)\n",
      "Requirement already satisfied: chardet<4,>=3.0.2 in /usr/local/lib/python3.7/dist-packages (from requests<3,>=2.21.0->tensorboard<3,>=2.3.0->tensorflow==2.3.0) (3.0.4)\n",
      "Requirement already satisfied: oauthlib>=3.0.0 in /usr/local/lib/python3.7/dist-packages (from requests-oauthlib>=0.7.0->google-auth-oauthlib<0.5,>=0.4.1->tensorboard<3,>=2.3.0->tensorflow==2.3.0) (3.2.0)\n",
      "Installing collected packages: numpy, tensorflow-estimator, h5py, gast, tensorflow\n",
      "  Attempting uninstall: numpy\n",
      "    Found existing installation: numpy 1.21.5\n",
      "    Uninstalling numpy-1.21.5:\n",
      "      Successfully uninstalled numpy-1.21.5\n",
      "  Attempting uninstall: tensorflow-estimator\n",
      "    Found existing installation: tensorflow-estimator 2.8.0\n",
      "    Uninstalling tensorflow-estimator-2.8.0:\n",
      "      Successfully uninstalled tensorflow-estimator-2.8.0\n",
      "  Attempting uninstall: h5py\n",
      "    Found existing installation: h5py 3.1.0\n",
      "    Uninstalling h5py-3.1.0:\n",
      "      Successfully uninstalled h5py-3.1.0\n",
      "  Attempting uninstall: gast\n",
      "    Found existing installation: gast 0.5.3\n",
      "    Uninstalling gast-0.5.3:\n",
      "      Successfully uninstalled gast-0.5.3\n",
      "  Attempting uninstall: tensorflow\n",
      "    Found existing installation: tensorflow 2.8.0\n",
      "    Uninstalling tensorflow-2.8.0:\n",
      "      Successfully uninstalled tensorflow-2.8.0\n",
      "\u001b[31mERROR: pip's dependency resolver does not currently take into account all the packages that are installed. This behaviour is the source of the following dependency conflicts.\n",
      "tables 3.7.0 requires numpy>=1.19.0, but you have numpy 1.18.5 which is incompatible.\n",
      "jaxlib 0.3.0+cuda11.cudnn805 requires numpy>=1.19, but you have numpy 1.18.5 which is incompatible.\n",
      "jax 0.3.1 requires numpy>=1.19, but you have numpy 1.18.5 which is incompatible.\n",
      "datascience 0.10.6 requires folium==0.2.1, but you have folium 0.8.3 which is incompatible.\n",
      "albumentations 0.1.12 requires imgaug<0.2.7,>=0.2.5, but you have imgaug 0.2.9 which is incompatible.\u001b[0m\n",
      "Successfully installed gast-0.3.3 h5py-2.10.0 numpy-1.18.5 tensorflow-2.3.0 tensorflow-estimator-2.3.0\n"
     ]
    },
    {
     "data": {
      "application/vnd.colab-display-data+json": {
       "pip_warning": {
        "packages": [
         "numpy"
        ]
       }
      }
     },
     "metadata": {},
     "output_type": "display_data"
    }
   ],
   "source": [
    "!pip install tensorflow==2.3.0"
   ]
  },
  {
   "cell_type": "code",
   "execution_count": 1,
   "metadata": {
    "colab": {
     "base_uri": "https://localhost:8080/"
    },
    "id": "vb_jvJ8wL72q",
    "outputId": "b7b59ab8-100a-4e96-d231-487b1d0f5dc6",
    "scrolled": true
   },
   "outputs": [
    {
     "name": "stdout",
     "output_type": "stream",
     "text": [
      "--2022-03-10 00:47:23--  https://www.dropbox.com/s/7p0s2ojc5i26qes/college_Dataset_3_channel.zip?dl=0\n",
      "Resolving www.dropbox.com (www.dropbox.com)... 162.125.3.18, 2620:100:6018:18::a27d:312\n",
      "Connecting to www.dropbox.com (www.dropbox.com)|162.125.3.18|:443... connected.\n",
      "HTTP request sent, awaiting response... 301 Moved Permanently\n",
      "Location: /s/raw/7p0s2ojc5i26qes/college_Dataset_3_channel.zip [following]\n",
      "--2022-03-10 00:47:23--  https://www.dropbox.com/s/raw/7p0s2ojc5i26qes/college_Dataset_3_channel.zip\n",
      "Reusing existing connection to www.dropbox.com:443.\n",
      "HTTP request sent, awaiting response... 302 Found\n",
      "Location: https://uc05d7e3f438ca794e8c9e413faf.dl.dropboxusercontent.com/cd/0/inline/BhJIsjsdAyL17ErO24hbbRif_ODf2Wh60vUOn9xOg2MJLKClB2iOteCGWWqenUXuX6nht70hdr8KsPS5bKNTPULIQR98haATLXSNXwXlv7OTBqo5qpMVoHrGj5vRbFGROgengux0tFq-dqNaV8ScizC8gaXoDsVEyPqco1OAIw1qVA/file# [following]\n",
      "--2022-03-10 00:47:23--  https://uc05d7e3f438ca794e8c9e413faf.dl.dropboxusercontent.com/cd/0/inline/BhJIsjsdAyL17ErO24hbbRif_ODf2Wh60vUOn9xOg2MJLKClB2iOteCGWWqenUXuX6nht70hdr8KsPS5bKNTPULIQR98haATLXSNXwXlv7OTBqo5qpMVoHrGj5vRbFGROgengux0tFq-dqNaV8ScizC8gaXoDsVEyPqco1OAIw1qVA/file\n",
      "Resolving uc05d7e3f438ca794e8c9e413faf.dl.dropboxusercontent.com (uc05d7e3f438ca794e8c9e413faf.dl.dropboxusercontent.com)... 162.125.3.15, 2620:100:6018:15::a27d:30f\n",
      "Connecting to uc05d7e3f438ca794e8c9e413faf.dl.dropboxusercontent.com (uc05d7e3f438ca794e8c9e413faf.dl.dropboxusercontent.com)|162.125.3.15|:443... connected.\n",
      "HTTP request sent, awaiting response... 302 Found\n",
      "Location: /cd/0/inline2/BhJq5eSmk5VLDn0Jjd0QLh3Ne5DSYaBLClxwJQpypD7L5uGsgp_jDxk9y1o1pCcV3TIfhFii6GoYyC2zi0Bk0WaTjroSAWk7IMt-HxpHxvXEhe2nTp8aV2SMw24DVVsz2g0jxgOHFxalQ-2_78CNIyRp2zEOaKqe5hzUvL1RcVbu_uWjBL1EqCdisDHG5rqMd4edfkcCvLIdbUDD2JyGv7btL0umqXBJpJNVAgcOI67_KFUWX1gUButs1CBXpRreOybmTon_QqU93AzMP2M0Qywo3JtSHzz8HRP1RuW_JUf_Ey22RquhwXvqBwQvnpc7KI5CpRImqS96e0jqStQdTCiwwmH6F87ljvP1GH1O7mD5rzLiB03nGAA8Di1VOMmKjyCctZh3dmzy8tiaT9NlYc1j_Ai4qyIlGZQxc83E5xXqIA/file [following]\n",
      "--2022-03-10 00:47:24--  https://uc05d7e3f438ca794e8c9e413faf.dl.dropboxusercontent.com/cd/0/inline2/BhJq5eSmk5VLDn0Jjd0QLh3Ne5DSYaBLClxwJQpypD7L5uGsgp_jDxk9y1o1pCcV3TIfhFii6GoYyC2zi0Bk0WaTjroSAWk7IMt-HxpHxvXEhe2nTp8aV2SMw24DVVsz2g0jxgOHFxalQ-2_78CNIyRp2zEOaKqe5hzUvL1RcVbu_uWjBL1EqCdisDHG5rqMd4edfkcCvLIdbUDD2JyGv7btL0umqXBJpJNVAgcOI67_KFUWX1gUButs1CBXpRreOybmTon_QqU93AzMP2M0Qywo3JtSHzz8HRP1RuW_JUf_Ey22RquhwXvqBwQvnpc7KI5CpRImqS96e0jqStQdTCiwwmH6F87ljvP1GH1O7mD5rzLiB03nGAA8Di1VOMmKjyCctZh3dmzy8tiaT9NlYc1j_Ai4qyIlGZQxc83E5xXqIA/file\n",
      "Reusing existing connection to uc05d7e3f438ca794e8c9e413faf.dl.dropboxusercontent.com:443.\n",
      "HTTP request sent, awaiting response... 200 OK\n",
      "Length: 276513696 (264M) [application/zip]\n",
      "Saving to: ‘college_Dataset_3_channel.zip?dl=0’\n",
      "\n",
      "college_Dataset_3_c 100%[===================>] 263.70M  71.2MB/s    in 3.8s    \n",
      "\n",
      "2022-03-10 00:47:28 (70.0 MB/s) - ‘college_Dataset_3_channel.zip?dl=0’ saved [276513696/276513696]\n",
      "\n"
     ]
    }
   ],
   "source": [
    "!wget https://www.dropbox.com/s/7p0s2ojc5i26qes/college_Dataset_3_channel.zip?dl=0"
   ]
  },
  {
   "cell_type": "code",
   "execution_count": 2,
   "metadata": {
    "id": "zdnrg8wqMJk_"
   },
   "outputs": [],
   "source": [
    "!unzip -q \"/content/college_Dataset_3_channel.zip?dl=0\""
   ]
  },
  {
   "cell_type": "code",
   "execution_count": 3,
   "metadata": {
    "id": "3e-giAFPLxMK"
   },
   "outputs": [],
   "source": [
    "import tensorflow as tf\n",
    "import numpy as np\n",
    "from tensorflow import keras\n",
    "import os\n",
    "import cv2\n",
    "from tensorflow.keras.preprocessing.image import ImageDataGenerator\n",
    "from tensorflow.keras.preprocessing import image\n",
    "import matplotlib.pyplot as plt\n",
    "#from livelossplot import PlotLossesKerasTF"
   ]
  },
  {
   "cell_type": "code",
   "execution_count": 4,
   "metadata": {
    "colab": {
     "base_uri": "https://localhost:8080/",
     "height": 36
    },
    "id": "CQtcWsjTKB_a",
    "outputId": "59017dde-ce64-47d5-c1e0-d13156b38742"
   },
   "outputs": [
    {
     "data": {
      "application/vnd.google.colaboratory.intrinsic+json": {
       "type": "string"
      },
      "text/plain": [
       "'2.3.0'"
      ]
     },
     "execution_count": 4,
     "metadata": {},
     "output_type": "execute_result"
    }
   ],
   "source": [
    "tf.__version__"
   ]
  },
  {
   "cell_type": "code",
   "execution_count": 5,
   "metadata": {
    "id": "9KaHsIc7L0BP"
   },
   "outputs": [],
   "source": [
    "img_height = 300\n",
    "img_width = 300\n",
    "batch_size = 32"
   ]
  },
  {
   "cell_type": "code",
   "execution_count": 6,
   "metadata": {
    "id": "NFoP80LIL43P"
   },
   "outputs": [],
   "source": [
    "train_datagen = ImageDataGenerator(rescale=1./255, validation_split=0.1) # validation split"
   ]
  },
  {
   "cell_type": "code",
   "execution_count": 7,
   "metadata": {
    "id": "Fb9UPJXoMSNe"
   },
   "outputs": [],
   "source": [
    "from pathlib import Path\n",
    "# Creating the Pathlib PATH objects\n",
    "train_data_dir= Path(\"/content/Dataset_3_channel/Train\")"
   ]
  },
  {
   "cell_type": "code",
   "execution_count": 8,
   "metadata": {
    "colab": {
     "base_uri": "https://localhost:8080/"
    },
    "id": "RkMkAJ0MMaYz",
    "outputId": "05213709-cedb-466a-d174-dfaf6acaea0f"
   },
   "outputs": [
    {
     "name": "stdout",
     "output_type": "stream",
     "text": [
      "Found 1354 images belonging to 2 classes.\n",
      "Found 150 images belonging to 2 classes.\n"
     ]
    }
   ],
   "source": [
    "train_generator = train_datagen.flow_from_directory(\n",
    "    train_data_dir,\n",
    "    target_size=(img_height, img_width),\n",
    "    batch_size=batch_size,\n",
    "    class_mode='binary',\n",
    "    subset='training') # set as training data\n",
    "\n",
    "\n",
    "validation_generator = train_datagen.flow_from_directory(\n",
    "    train_data_dir, # same directory as training data\n",
    "    target_size=(img_height, img_width),\n",
    "    batch_size=batch_size,\n",
    "    class_mode='binary',\n",
    "    subset='validation') # set as validation data"
   ]
  },
  {
   "cell_type": "code",
   "execution_count": 9,
   "metadata": {
    "colab": {
     "base_uri": "https://localhost:8080/"
    },
    "id": "Vc91NYfzMgKy",
    "outputId": "1800c509-4095-4a94-89d8-3071b8012830",
    "scrolled": true
   },
   "outputs": [
    {
     "name": "stdout",
     "output_type": "stream",
     "text": [
      "Model: \"sequential\"\n",
      "_________________________________________________________________\n",
      "Layer (type)                 Output Shape              Param #   \n",
      "=================================================================\n",
      "conv2d (Conv2D)              (None, 298, 298, 16)      448       \n",
      "_________________________________________________________________\n",
      "max_pooling2d (MaxPooling2D) (None, 149, 149, 16)      0         \n",
      "_________________________________________________________________\n",
      "conv2d_1 (Conv2D)            (None, 147, 147, 32)      4640      \n",
      "_________________________________________________________________\n",
      "max_pooling2d_1 (MaxPooling2 (None, 73, 73, 32)        0         \n",
      "_________________________________________________________________\n",
      "conv2d_2 (Conv2D)            (None, 71, 71, 64)        18496     \n",
      "_________________________________________________________________\n",
      "max_pooling2d_2 (MaxPooling2 (None, 35, 35, 64)        0         \n",
      "_________________________________________________________________\n",
      "dropout (Dropout)            (None, 35, 35, 64)        0         \n",
      "_________________________________________________________________\n",
      "conv2d_3 (Conv2D)            (None, 33, 33, 128)       73856     \n",
      "_________________________________________________________________\n",
      "max_pooling2d_3 (MaxPooling2 (None, 16, 16, 128)       0         \n",
      "_________________________________________________________________\n",
      "dropout_1 (Dropout)          (None, 16, 16, 128)       0         \n",
      "_________________________________________________________________\n",
      "conv2d_4 (Conv2D)            (None, 14, 14, 128)       147584    \n",
      "_________________________________________________________________\n",
      "max_pooling2d_4 (MaxPooling2 (None, 7, 7, 128)         0         \n",
      "_________________________________________________________________\n",
      "dropout_2 (Dropout)          (None, 7, 7, 128)         0         \n",
      "_________________________________________________________________\n",
      "conv2d_5 (Conv2D)            (None, 5, 5, 256)         295168    \n",
      "_________________________________________________________________\n",
      "max_pooling2d_5 (MaxPooling2 (None, 2, 2, 256)         0         \n",
      "_________________________________________________________________\n",
      "dropout_3 (Dropout)          (None, 2, 2, 256)         0         \n",
      "_________________________________________________________________\n",
      "flatten (Flatten)            (None, 1024)              0         \n",
      "_________________________________________________________________\n",
      "dense (Dense)                (None, 512)               524800    \n",
      "_________________________________________________________________\n",
      "dense_1 (Dense)              (None, 1)                 513       \n",
      "=================================================================\n",
      "Total params: 1,065,505\n",
      "Trainable params: 1,065,505\n",
      "Non-trainable params: 0\n",
      "_________________________________________________________________\n"
     ]
    }
   ],
   "source": [
    "model = keras.Sequential()\n",
    "\n",
    "model.add(keras.layers.Conv2D(16,(3,3),activation='relu',input_shape=(img_width,img_height,3)))\n",
    "model.add(keras.layers.MaxPool2D())\n",
    "#model.add(keras.layers.Dropout(0.5))\n",
    "\n",
    "\n",
    "# Convolutional layer and maxpool layer 1\n",
    "model.add(keras.layers.Conv2D(32,(3,3),activation='relu'))\n",
    "model.add(keras.layers.MaxPool2D())\n",
    "#model.add(keras.layers.Dropout(0.5))\n",
    "\n",
    "# Convolutional layer and maxpool layer 2\n",
    "model.add(keras.layers.Conv2D(64,(3,3),activation='relu'))\n",
    "model.add(keras.layers.MaxPool2D())\n",
    "model.add(keras.layers.Dropout(0.5))\n",
    "\n",
    "# Convolutional layer and maxpool layer 3\n",
    "model.add(keras.layers.Conv2D(128,(3,3),activation='relu'))\n",
    "model.add(keras.layers.MaxPool2D())\n",
    "model.add(keras.layers.Dropout(0.5))\n",
    "\n",
    "# Convolutional layer and maxpool layer 4\n",
    "model.add(keras.layers.Conv2D(128,(3,3),activation='relu'))\n",
    "model.add(keras.layers.MaxPool2D())\n",
    "model.add(keras.layers.Dropout(0.5))\n",
    "\n",
    "# Convolutional layer and maxpool layer 5\n",
    "model.add(keras.layers.Conv2D(256,(3,3),activation='relu'))\n",
    "model.add(keras.layers.MaxPool2D())\n",
    "model.add(keras.layers.Dropout(0.5))\n",
    "\n",
    "# # Convolutional layer and maxpool layer 6\n",
    "# model.add(keras.layers.Conv2D(256,(3,3),activation='relu'))\n",
    "# model.add(keras.layers.MaxPool2D())\n",
    "# #model.add(keras.layers.Dropout(0.5))\n",
    "\n",
    "model.add(keras.layers.Flatten())\n",
    "\n",
    "model.add(keras.layers.Dense(512,activation='relu'))\n",
    "\n",
    "model.add(keras.layers.Dense(1, activation='sigmoid'))\n",
    "\n",
    "model.summary()"
   ]
  },
  {
   "cell_type": "code",
   "execution_count": 10,
   "metadata": {
    "id": "qXwe8ckFN13S"
   },
   "outputs": [],
   "source": [
    "model.compile(\n",
    "    optimizer=tf.keras.optimizers.Adam(learning_rate=0.001, beta_1=0.9, beta_2=0.999, epsilon=1e-07),\n",
    "    loss='binary_crossentropy',\n",
    "    metrics=['accuracy' , tf.keras.metrics.Precision(name='precision'),tf.keras.metrics.Recall(name='recall')]\n",
    "    )"
   ]
  },
  {
   "cell_type": "code",
   "execution_count": 11,
   "metadata": {
    "id": "SbFlPWJZN9WD"
   },
   "outputs": [],
   "source": [
    "# Defining our callbacks \n",
    "checkpoint = tf.keras.callbacks.ModelCheckpoint(\"bw_base.h5\",verbose=1,save_best_only=True,\n",
    "                                                 save_weights_only = True)\n",
    "# if false then it will save for every iteration\n",
    "\n",
    "#early_stop1 = tf.keras.callbacks.EarlyStopping(patience=10)\n",
    "\n",
    "csv_log = tf.keras.callbacks.CSVLogger(\n",
    "    'base.csv', separator=',', append=False)"
   ]
  },
  {
   "cell_type": "code",
   "execution_count": 12,
   "metadata": {
    "colab": {
     "base_uri": "https://localhost:8080/"
    },
    "id": "e2R7Z_vnOE5V",
    "outputId": "48579472-525c-40bc-b0a4-d58efbe87564"
   },
   "outputs": [
    {
     "name": "stdout",
     "output_type": "stream",
     "text": [
      "Epoch 1/100\n",
      "42/42 [==============================] - ETA: 0s - loss: 0.6283 - accuracy: 0.6467 - precision: 0.6400 - recall: 0.6757\n",
      "Epoch 00001: val_loss improved from inf to 0.59305, saving model to bw_base.h5\n",
      "42/42 [==============================] - 10s 246ms/step - loss: 0.6283 - accuracy: 0.6467 - precision: 0.6400 - recall: 0.6757 - val_loss: 0.5930 - val_accuracy: 0.6406 - val_precision: 0.7179 - val_recall: 0.4444\n",
      "Epoch 2/100\n",
      "42/42 [==============================] - ETA: 0s - loss: 0.5079 - accuracy: 0.7685 - precision: 0.8266 - recall: 0.6788\n",
      "Epoch 00002: val_loss improved from 0.59305 to 0.55040, saving model to bw_base.h5\n",
      "42/42 [==============================] - 9s 225ms/step - loss: 0.5079 - accuracy: 0.7685 - precision: 0.8266 - recall: 0.6788 - val_loss: 0.5504 - val_accuracy: 0.7031 - val_precision: 0.8250 - val_recall: 0.5156\n",
      "Epoch 3/100\n",
      "42/42 [==============================] - ETA: 0s - loss: 0.4393 - accuracy: 0.8094 - precision: 0.8785 - recall: 0.7154\n",
      "Epoch 00003: val_loss improved from 0.55040 to 0.48516, saving model to bw_base.h5\n",
      "42/42 [==============================] - 9s 223ms/step - loss: 0.4393 - accuracy: 0.8094 - precision: 0.8785 - recall: 0.7154 - val_loss: 0.4852 - val_accuracy: 0.7344 - val_precision: 0.8333 - val_recall: 0.5645\n",
      "Epoch 4/100\n",
      "42/42 [==============================] - ETA: 0s - loss: 0.3969 - accuracy: 0.8283 - precision: 0.9060 - recall: 0.7314\n",
      "Epoch 00004: val_loss did not improve from 0.48516\n",
      "42/42 [==============================] - 9s 226ms/step - loss: 0.3969 - accuracy: 0.8283 - precision: 0.9060 - recall: 0.7314 - val_loss: 0.5025 - val_accuracy: 0.7188 - val_precision: 0.9333 - val_recall: 0.4516\n",
      "Epoch 5/100\n",
      "42/42 [==============================] - ETA: 0s - loss: 0.3876 - accuracy: 0.8268 - precision: 0.9204 - recall: 0.7160\n",
      "Epoch 00005: val_loss improved from 0.48516 to 0.48431, saving model to bw_base.h5\n",
      "42/42 [==============================] - 10s 227ms/step - loss: 0.3876 - accuracy: 0.8268 - precision: 0.9204 - recall: 0.7160 - val_loss: 0.4843 - val_accuracy: 0.7422 - val_precision: 0.8684 - val_recall: 0.5410\n",
      "Epoch 6/100\n",
      "42/42 [==============================] - ETA: 0s - loss: 0.3365 - accuracy: 0.8427 - precision: 0.9349 - recall: 0.7372\n",
      "Epoch 00006: val_loss improved from 0.48431 to 0.48414, saving model to bw_base.h5\n",
      "42/42 [==============================] - 10s 230ms/step - loss: 0.3365 - accuracy: 0.8427 - precision: 0.9349 - recall: 0.7372 - val_loss: 0.4841 - val_accuracy: 0.7188 - val_precision: 0.8684 - val_recall: 0.5156\n",
      "Epoch 7/100\n",
      "42/42 [==============================] - ETA: 0s - loss: 0.3214 - accuracy: 0.8767 - precision: 0.9350 - recall: 0.8085\n",
      "Epoch 00007: val_loss improved from 0.48414 to 0.43958, saving model to bw_base.h5\n",
      "42/42 [==============================] - 10s 229ms/step - loss: 0.3214 - accuracy: 0.8767 - precision: 0.9350 - recall: 0.8085 - val_loss: 0.4396 - val_accuracy: 0.7812 - val_precision: 0.9487 - val_recall: 0.5873\n",
      "Epoch 8/100\n",
      "42/42 [==============================] - ETA: 0s - loss: 0.2938 - accuracy: 0.8896 - precision: 0.9430 - recall: 0.8285\n",
      "Epoch 00008: val_loss improved from 0.43958 to 0.43275, saving model to bw_base.h5\n",
      "42/42 [==============================] - 10s 234ms/step - loss: 0.2938 - accuracy: 0.8896 - precision: 0.9430 - recall: 0.8285 - val_loss: 0.4328 - val_accuracy: 0.7734 - val_precision: 0.9211 - val_recall: 0.5738\n",
      "Epoch 9/100\n",
      "42/42 [==============================] - ETA: 0s - loss: 0.2776 - accuracy: 0.8986 - precision: 0.9582 - recall: 0.8333\n",
      "Epoch 00009: val_loss did not improve from 0.43275\n",
      "42/42 [==============================] - 10s 229ms/step - loss: 0.2776 - accuracy: 0.8986 - precision: 0.9582 - recall: 0.8333 - val_loss: 0.4449 - val_accuracy: 0.7734 - val_precision: 1.0000 - val_recall: 0.5606\n",
      "Epoch 10/100\n",
      "42/42 [==============================] - ETA: 0s - loss: 0.2550 - accuracy: 0.9054 - precision: 0.9652 - recall: 0.8407\n",
      "Epoch 00010: val_loss did not improve from 0.43275\n",
      "42/42 [==============================] - 9s 221ms/step - loss: 0.2550 - accuracy: 0.9054 - precision: 0.9652 - recall: 0.8407 - val_loss: 0.4390 - val_accuracy: 0.7812 - val_precision: 0.9487 - val_recall: 0.5873\n",
      "Epoch 11/100\n",
      "42/42 [==============================] - ETA: 0s - loss: 0.2359 - accuracy: 0.9092 - precision: 0.9637 - recall: 0.8493\n",
      "Epoch 00011: val_loss improved from 0.43275 to 0.37626, saving model to bw_base.h5\n",
      "42/42 [==============================] - 9s 221ms/step - loss: 0.2359 - accuracy: 0.9092 - precision: 0.9637 - recall: 0.8493 - val_loss: 0.3763 - val_accuracy: 0.8047 - val_precision: 0.9762 - val_recall: 0.6308\n",
      "Epoch 12/100\n",
      "42/42 [==============================] - ETA: 0s - loss: 0.2352 - accuracy: 0.9123 - precision: 0.9723 - recall: 0.8487\n",
      "Epoch 00012: val_loss did not improve from 0.37626\n",
      "42/42 [==============================] - 9s 221ms/step - loss: 0.2352 - accuracy: 0.9123 - precision: 0.9723 - recall: 0.8487 - val_loss: 0.4739 - val_accuracy: 0.7500 - val_precision: 0.9706 - val_recall: 0.5156\n",
      "Epoch 13/100\n",
      "42/42 [==============================] - ETA: 0s - loss: 0.2833 - accuracy: 0.8873 - precision: 0.9417 - recall: 0.8268\n",
      "Epoch 00013: val_loss did not improve from 0.37626\n",
      "42/42 [==============================] - 9s 219ms/step - loss: 0.2833 - accuracy: 0.8873 - precision: 0.9417 - recall: 0.8268 - val_loss: 0.4374 - val_accuracy: 0.7578 - val_precision: 0.8864 - val_recall: 0.6000\n",
      "Epoch 14/100\n",
      "42/42 [==============================] - ETA: 0s - loss: 0.2300 - accuracy: 0.9047 - precision: 0.9618 - recall: 0.8419\n",
      "Epoch 00014: val_loss did not improve from 0.37626\n",
      "42/42 [==============================] - 9s 218ms/step - loss: 0.2300 - accuracy: 0.9047 - precision: 0.9618 - recall: 0.8419 - val_loss: 0.4616 - val_accuracy: 0.7578 - val_precision: 0.8864 - val_recall: 0.6000\n",
      "Epoch 15/100\n",
      "42/42 [==============================] - ETA: 0s - loss: 0.2235 - accuracy: 0.9107 - precision: 0.9643 - recall: 0.8541\n",
      "Epoch 00015: val_loss did not improve from 0.37626\n",
      "42/42 [==============================] - 9s 218ms/step - loss: 0.2235 - accuracy: 0.9107 - precision: 0.9643 - recall: 0.8541 - val_loss: 0.3895 - val_accuracy: 0.7969 - val_precision: 0.9286 - val_recall: 0.6290\n",
      "Epoch 16/100\n",
      "42/42 [==============================] - ETA: 0s - loss: 0.2076 - accuracy: 0.9206 - precision: 0.9667 - recall: 0.8722\n",
      "Epoch 00016: val_loss did not improve from 0.37626\n",
      "42/42 [==============================] - 9s 220ms/step - loss: 0.2076 - accuracy: 0.9206 - precision: 0.9667 - recall: 0.8722 - val_loss: 0.4424 - val_accuracy: 0.7656 - val_precision: 0.9750 - val_recall: 0.5735\n",
      "Epoch 17/100\n",
      "42/42 [==============================] - ETA: 0s - loss: 0.2173 - accuracy: 0.9160 - precision: 0.9759 - recall: 0.8539\n",
      "Epoch 00017: val_loss did not improve from 0.37626\n",
      "42/42 [==============================] - 9s 218ms/step - loss: 0.2173 - accuracy: 0.9160 - precision: 0.9759 - recall: 0.8539 - val_loss: 0.4748 - val_accuracy: 0.7891 - val_precision: 1.0000 - val_recall: 0.5846\n",
      "Epoch 18/100\n",
      "42/42 [==============================] - ETA: 0s - loss: 0.2167 - accuracy: 0.9145 - precision: 0.9690 - recall: 0.8556\n",
      "Epoch 00018: val_loss did not improve from 0.37626\n",
      "42/42 [==============================] - 9s 219ms/step - loss: 0.2167 - accuracy: 0.9145 - precision: 0.9690 - recall: 0.8556 - val_loss: 0.4076 - val_accuracy: 0.8047 - val_precision: 1.0000 - val_recall: 0.6032\n",
      "Epoch 19/100\n",
      "42/42 [==============================] - ETA: 0s - loss: 0.1971 - accuracy: 0.9251 - precision: 0.9828 - recall: 0.8652\n",
      "Epoch 00019: val_loss did not improve from 0.37626\n",
      "42/42 [==============================] - 9s 220ms/step - loss: 0.1971 - accuracy: 0.9251 - precision: 0.9828 - recall: 0.8652 - val_loss: 0.4783 - val_accuracy: 0.7734 - val_precision: 0.9714 - val_recall: 0.5484\n",
      "Epoch 20/100\n",
      "42/42 [==============================] - ETA: 0s - loss: 0.1871 - accuracy: 0.9289 - precision: 0.9734 - recall: 0.8825\n",
      "Epoch 00020: val_loss did not improve from 0.37626\n",
      "42/42 [==============================] - 9s 224ms/step - loss: 0.1871 - accuracy: 0.9289 - precision: 0.9734 - recall: 0.8825 - val_loss: 0.4742 - val_accuracy: 0.7891 - val_precision: 1.0000 - val_recall: 0.5645\n",
      "Epoch 21/100\n",
      "42/42 [==============================] - ETA: 0s - loss: 0.2054 - accuracy: 0.9213 - precision: 0.9646 - recall: 0.8733\n",
      "Epoch 00021: val_loss did not improve from 0.37626\n",
      "42/42 [==============================] - 9s 218ms/step - loss: 0.2054 - accuracy: 0.9213 - precision: 0.9646 - recall: 0.8733 - val_loss: 0.4562 - val_accuracy: 0.8125 - val_precision: 1.0000 - val_recall: 0.6190\n",
      "Epoch 22/100\n",
      "42/42 [==============================] - ETA: 0s - loss: 0.1816 - accuracy: 0.9289 - precision: 0.9798 - recall: 0.8763\n",
      "Epoch 00022: val_loss did not improve from 0.37626\n",
      "42/42 [==============================] - 9s 222ms/step - loss: 0.1816 - accuracy: 0.9289 - precision: 0.9798 - recall: 0.8763 - val_loss: 0.4657 - val_accuracy: 0.7734 - val_precision: 0.9688 - val_recall: 0.5254\n",
      "Epoch 23/100\n",
      "42/42 [==============================] - ETA: 0s - loss: 0.1799 - accuracy: 0.9349 - precision: 0.9816 - recall: 0.8867\n",
      "Epoch 00023: val_loss did not improve from 0.37626\n",
      "42/42 [==============================] - 9s 219ms/step - loss: 0.1799 - accuracy: 0.9349 - precision: 0.9816 - recall: 0.8867 - val_loss: 0.5308 - val_accuracy: 0.7734 - val_precision: 0.9730 - val_recall: 0.5625\n",
      "Epoch 24/100\n",
      "42/42 [==============================] - ETA: 0s - loss: 0.1690 - accuracy: 0.9365 - precision: 0.9849 - recall: 0.8865\n",
      "Epoch 00024: val_loss did not improve from 0.37626\n",
      "42/42 [==============================] - 9s 220ms/step - loss: 0.1690 - accuracy: 0.9365 - precision: 0.9849 - recall: 0.8865 - val_loss: 0.5477 - val_accuracy: 0.7500 - val_precision: 0.9459 - val_recall: 0.5385\n",
      "Epoch 25/100\n",
      "42/42 [==============================] - ETA: 0s - loss: 0.1758 - accuracy: 0.9342 - precision: 0.9816 - recall: 0.8854\n",
      "Epoch 00025: val_loss did not improve from 0.37626\n",
      "42/42 [==============================] - 9s 218ms/step - loss: 0.1758 - accuracy: 0.9342 - precision: 0.9816 - recall: 0.8854 - val_loss: 0.5137 - val_accuracy: 0.7578 - val_precision: 0.9512 - val_recall: 0.5735\n",
      "Epoch 26/100\n",
      "42/42 [==============================] - ETA: 0s - loss: 0.1601 - accuracy: 0.9334 - precision: 0.9736 - recall: 0.8912\n",
      "Epoch 00026: val_loss did not improve from 0.37626\n",
      "42/42 [==============================] - 9s 216ms/step - loss: 0.1601 - accuracy: 0.9334 - precision: 0.9736 - recall: 0.8912 - val_loss: 0.4417 - val_accuracy: 0.7578 - val_precision: 0.9231 - val_recall: 0.5625\n",
      "Epoch 27/100\n",
      "42/42 [==============================] - ETA: 0s - loss: 0.1727 - accuracy: 0.9327 - precision: 0.9735 - recall: 0.8896\n",
      "Epoch 00027: val_loss did not improve from 0.37626\n",
      "42/42 [==============================] - 9s 218ms/step - loss: 0.1727 - accuracy: 0.9327 - precision: 0.9735 - recall: 0.8896 - val_loss: 0.5067 - val_accuracy: 0.7734 - val_precision: 0.9722 - val_recall: 0.5556\n",
      "Epoch 28/100\n",
      "42/42 [==============================] - ETA: 0s - loss: 0.1837 - accuracy: 0.9312 - precision: 0.9781 - recall: 0.8815\n",
      "Epoch 00028: val_loss did not improve from 0.37626\n",
      "42/42 [==============================] - 9s 220ms/step - loss: 0.1837 - accuracy: 0.9312 - precision: 0.9781 - recall: 0.8815 - val_loss: 0.4107 - val_accuracy: 0.7812 - val_precision: 0.9189 - val_recall: 0.5763\n",
      "Epoch 29/100\n",
      "42/42 [==============================] - ETA: 0s - loss: 0.1454 - accuracy: 0.9402 - precision: 0.9833 - recall: 0.8951\n",
      "Epoch 00029: val_loss did not improve from 0.37626\n",
      "42/42 [==============================] - 9s 223ms/step - loss: 0.1454 - accuracy: 0.9402 - precision: 0.9833 - recall: 0.8951 - val_loss: 0.4083 - val_accuracy: 0.7891 - val_precision: 0.9512 - val_recall: 0.6094\n",
      "Epoch 30/100\n",
      "42/42 [==============================] - ETA: 0s - loss: 0.1344 - accuracy: 0.9463 - precision: 0.9852 - recall: 0.9061\n",
      "Epoch 00030: val_loss did not improve from 0.37626\n",
      "42/42 [==============================] - 9s 217ms/step - loss: 0.1344 - accuracy: 0.9463 - precision: 0.9852 - recall: 0.9061 - val_loss: 0.4482 - val_accuracy: 0.7578 - val_precision: 0.9487 - val_recall: 0.5606\n",
      "Epoch 31/100\n",
      "42/42 [==============================] - ETA: 0s - loss: 0.1528 - accuracy: 0.9372 - precision: 0.9768 - recall: 0.8951\n",
      "Epoch 00031: val_loss did not improve from 0.37626\n",
      "42/42 [==============================] - 9s 222ms/step - loss: 0.1528 - accuracy: 0.9372 - precision: 0.9768 - recall: 0.8951 - val_loss: 0.5575 - val_accuracy: 0.7500 - val_precision: 0.8636 - val_recall: 0.5938\n",
      "Epoch 32/100\n",
      "42/42 [==============================] - ETA: 0s - loss: 0.1484 - accuracy: 0.9425 - precision: 0.9818 - recall: 0.9014\n",
      "Epoch 00032: val_loss did not improve from 0.37626\n",
      "42/42 [==============================] - 9s 219ms/step - loss: 0.1484 - accuracy: 0.9425 - precision: 0.9818 - recall: 0.9014 - val_loss: 0.4884 - val_accuracy: 0.7969 - val_precision: 1.0000 - val_recall: 0.5667\n",
      "Epoch 33/100\n",
      "42/42 [==============================] - ETA: 0s - loss: 0.1307 - accuracy: 0.9455 - precision: 0.9852 - recall: 0.9047\n",
      "Epoch 00033: val_loss did not improve from 0.37626\n",
      "42/42 [==============================] - 9s 218ms/step - loss: 0.1307 - accuracy: 0.9455 - precision: 0.9852 - recall: 0.9047 - val_loss: 0.4577 - val_accuracy: 0.7969 - val_precision: 0.9750 - val_recall: 0.6094\n",
      "Epoch 34/100\n",
      "42/42 [==============================] - ETA: 0s - loss: 0.1388 - accuracy: 0.9463 - precision: 0.9821 - recall: 0.9096\n",
      "Epoch 00034: val_loss did not improve from 0.37626\n",
      "42/42 [==============================] - 9s 221ms/step - loss: 0.1388 - accuracy: 0.9463 - precision: 0.9821 - recall: 0.9096 - val_loss: 0.4829 - val_accuracy: 0.7734 - val_precision: 0.9756 - val_recall: 0.5882\n",
      "Epoch 35/100\n",
      "42/42 [==============================] - ETA: 0s - loss: 0.1384 - accuracy: 0.9440 - precision: 0.9819 - recall: 0.9047\n",
      "Epoch 00035: val_loss did not improve from 0.37626\n",
      "42/42 [==============================] - 9s 222ms/step - loss: 0.1384 - accuracy: 0.9440 - precision: 0.9819 - recall: 0.9047 - val_loss: 0.5113 - val_accuracy: 0.7812 - val_precision: 0.9714 - val_recall: 0.5574\n",
      "Epoch 36/100\n",
      "42/42 [==============================] - ETA: 0s - loss: 0.1501 - accuracy: 0.9418 - precision: 0.9819 - recall: 0.9005\n",
      "Epoch 00036: val_loss did not improve from 0.37626\n",
      "42/42 [==============================] - 9s 221ms/step - loss: 0.1501 - accuracy: 0.9418 - precision: 0.9819 - recall: 0.9005 - val_loss: 0.4378 - val_accuracy: 0.7891 - val_precision: 0.9737 - val_recall: 0.5873\n",
      "Epoch 37/100\n",
      "42/42 [==============================] - ETA: 0s - loss: 0.1480 - accuracy: 0.9402 - precision: 0.9756 - recall: 0.9035\n",
      "Epoch 00037: val_loss did not improve from 0.37626\n",
      "42/42 [==============================] - 9s 219ms/step - loss: 0.1480 - accuracy: 0.9402 - precision: 0.9756 - recall: 0.9035 - val_loss: 0.4236 - val_accuracy: 0.7656 - val_precision: 0.9722 - val_recall: 0.5469\n",
      "Epoch 38/100\n",
      "42/42 [==============================] - ETA: 0s - loss: 0.1401 - accuracy: 0.9410 - precision: 0.9802 - recall: 0.8998\n",
      "Epoch 00038: val_loss did not improve from 0.37626\n",
      "42/42 [==============================] - 9s 219ms/step - loss: 0.1401 - accuracy: 0.9410 - precision: 0.9802 - recall: 0.8998 - val_loss: 0.4400 - val_accuracy: 0.7891 - val_precision: 0.9250 - val_recall: 0.6066\n",
      "Epoch 39/100\n",
      "42/42 [==============================] - ETA: 0s - loss: 0.1347 - accuracy: 0.9478 - precision: 0.9837 - recall: 0.9107\n",
      "Epoch 00039: val_loss did not improve from 0.37626\n",
      "42/42 [==============================] - 9s 220ms/step - loss: 0.1347 - accuracy: 0.9478 - precision: 0.9837 - recall: 0.9107 - val_loss: 0.4502 - val_accuracy: 0.7734 - val_precision: 0.9474 - val_recall: 0.5714\n",
      "Epoch 40/100\n",
      "42/42 [==============================] - ETA: 0s - loss: 0.1104 - accuracy: 0.9554 - precision: 0.9886 - recall: 0.9212\n",
      "Epoch 00040: val_loss did not improve from 0.37626\n",
      "42/42 [==============================] - 9s 220ms/step - loss: 0.1104 - accuracy: 0.9554 - precision: 0.9886 - recall: 0.9212 - val_loss: 0.5448 - val_accuracy: 0.7734 - val_precision: 0.9487 - val_recall: 0.5781\n",
      "Epoch 41/100\n",
      "42/42 [==============================] - ETA: 0s - loss: 0.1228 - accuracy: 0.9508 - precision: 0.9885 - recall: 0.9120\n",
      "Epoch 00041: val_loss did not improve from 0.37626\n",
      "42/42 [==============================] - 9s 219ms/step - loss: 0.1228 - accuracy: 0.9508 - precision: 0.9885 - recall: 0.9120 - val_loss: 0.4081 - val_accuracy: 0.8125 - val_precision: 0.9737 - val_recall: 0.6167\n",
      "Epoch 42/100\n",
      "42/42 [==============================] - ETA: 0s - loss: 0.1260 - accuracy: 0.9470 - precision: 0.9806 - recall: 0.9125\n",
      "Epoch 00042: val_loss did not improve from 0.37626\n",
      "42/42 [==============================] - 9s 220ms/step - loss: 0.1260 - accuracy: 0.9470 - precision: 0.9806 - recall: 0.9125 - val_loss: 0.4842 - val_accuracy: 0.8125 - val_precision: 0.9762 - val_recall: 0.6406\n",
      "Epoch 43/100\n",
      "42/42 [==============================] - ETA: 0s - loss: 0.1182 - accuracy: 0.9539 - precision: 0.9871 - recall: 0.9202\n",
      "Epoch 00043: val_loss did not improve from 0.37626\n",
      "42/42 [==============================] - 9s 221ms/step - loss: 0.1182 - accuracy: 0.9539 - precision: 0.9871 - recall: 0.9202 - val_loss: 0.5164 - val_accuracy: 0.7578 - val_precision: 0.9459 - val_recall: 0.5469\n",
      "Epoch 44/100\n",
      "42/42 [==============================] - ETA: 0s - loss: 0.1210 - accuracy: 0.9486 - precision: 0.9838 - recall: 0.9127\n",
      "Epoch 00044: val_loss did not improve from 0.37626\n",
      "42/42 [==============================] - 9s 223ms/step - loss: 0.1210 - accuracy: 0.9486 - precision: 0.9838 - recall: 0.9127 - val_loss: 0.6136 - val_accuracy: 0.7500 - val_precision: 1.0000 - val_recall: 0.5429\n",
      "Epoch 45/100\n",
      "42/42 [==============================] - ETA: 0s - loss: 0.1265 - accuracy: 0.9531 - precision: 0.9870 - recall: 0.9184\n",
      "Epoch 00045: val_loss did not improve from 0.37626\n",
      "42/42 [==============================] - 9s 221ms/step - loss: 0.1265 - accuracy: 0.9531 - precision: 0.9870 - recall: 0.9184 - val_loss: 0.6336 - val_accuracy: 0.7891 - val_precision: 0.9535 - val_recall: 0.6212\n",
      "Epoch 46/100\n",
      "42/42 [==============================] - ETA: 0s - loss: 0.1225 - accuracy: 0.9501 - precision: 0.9776 - recall: 0.9215\n",
      "Epoch 00046: val_loss did not improve from 0.37626\n",
      "42/42 [==============================] - 9s 224ms/step - loss: 0.1225 - accuracy: 0.9501 - precision: 0.9776 - recall: 0.9215 - val_loss: 0.5426 - val_accuracy: 0.7969 - val_precision: 0.9756 - val_recall: 0.6154\n",
      "Epoch 47/100\n",
      "42/42 [==============================] - ETA: 0s - loss: 0.1179 - accuracy: 0.9508 - precision: 0.9837 - recall: 0.9163\n",
      "Epoch 00047: val_loss did not improve from 0.37626\n",
      "42/42 [==============================] - 9s 220ms/step - loss: 0.1179 - accuracy: 0.9508 - precision: 0.9837 - recall: 0.9163 - val_loss: 0.4784 - val_accuracy: 0.7812 - val_precision: 0.9512 - val_recall: 0.6000\n",
      "Epoch 48/100\n",
      "42/42 [==============================] - ETA: 0s - loss: 0.1093 - accuracy: 0.9554 - precision: 0.9918 - recall: 0.9182\n",
      "Epoch 00048: val_loss did not improve from 0.37626\n",
      "42/42 [==============================] - 9s 222ms/step - loss: 0.1093 - accuracy: 0.9554 - precision: 0.9918 - recall: 0.9182 - val_loss: 0.5015 - val_accuracy: 0.7969 - val_precision: 0.9762 - val_recall: 0.6212\n",
      "Epoch 49/100\n",
      "42/42 [==============================] - ETA: 0s - loss: 0.1240 - accuracy: 0.9486 - precision: 0.9806 - recall: 0.9154\n",
      "Epoch 00049: val_loss did not improve from 0.37626\n",
      "42/42 [==============================] - 9s 219ms/step - loss: 0.1240 - accuracy: 0.9486 - precision: 0.9806 - recall: 0.9154 - val_loss: 0.4934 - val_accuracy: 0.8047 - val_precision: 1.0000 - val_recall: 0.6094\n",
      "Epoch 50/100\n",
      "42/42 [==============================] - ETA: 0s - loss: 0.1101 - accuracy: 0.9569 - precision: 0.9919 - recall: 0.9222\n",
      "Epoch 00050: val_loss did not improve from 0.37626\n",
      "42/42 [==============================] - 9s 220ms/step - loss: 0.1101 - accuracy: 0.9569 - precision: 0.9919 - recall: 0.9222 - val_loss: 0.5182 - val_accuracy: 0.7969 - val_precision: 1.0000 - val_recall: 0.6061\n",
      "Epoch 51/100\n",
      "42/42 [==============================] - ETA: 0s - loss: 0.1209 - accuracy: 0.9539 - precision: 0.9838 - recall: 0.9225\n",
      "Epoch 00051: val_loss did not improve from 0.37626\n",
      "42/42 [==============================] - 10s 231ms/step - loss: 0.1209 - accuracy: 0.9539 - precision: 0.9838 - recall: 0.9225 - val_loss: 0.5996 - val_accuracy: 0.7969 - val_precision: 1.0000 - val_recall: 0.5938\n",
      "Epoch 52/100\n",
      "42/42 [==============================] - ETA: 0s - loss: 0.1220 - accuracy: 0.9539 - precision: 0.9871 - recall: 0.9203\n",
      "Epoch 00052: val_loss did not improve from 0.37626\n",
      "42/42 [==============================] - 9s 224ms/step - loss: 0.1220 - accuracy: 0.9539 - precision: 0.9871 - recall: 0.9203 - val_loss: 0.4286 - val_accuracy: 0.7969 - val_precision: 1.0000 - val_recall: 0.5806\n",
      "Epoch 53/100\n",
      "42/42 [==============================] - ETA: 0s - loss: 0.1101 - accuracy: 0.9561 - precision: 0.9887 - recall: 0.9232\n",
      "Epoch 00053: val_loss did not improve from 0.37626\n",
      "42/42 [==============================] - 9s 220ms/step - loss: 0.1101 - accuracy: 0.9561 - precision: 0.9887 - recall: 0.9232 - val_loss: 0.6084 - val_accuracy: 0.7891 - val_precision: 1.0000 - val_recall: 0.5781\n",
      "Epoch 54/100\n",
      "42/42 [==============================] - ETA: 0s - loss: 0.1276 - accuracy: 0.9486 - precision: 0.9805 - recall: 0.9150\n",
      "Epoch 00054: val_loss did not improve from 0.37626\n",
      "42/42 [==============================] - 9s 223ms/step - loss: 0.1276 - accuracy: 0.9486 - precision: 0.9805 - recall: 0.9150 - val_loss: 0.4917 - val_accuracy: 0.7891 - val_precision: 1.0000 - val_recall: 0.5970\n",
      "Epoch 55/100\n",
      "42/42 [==============================] - ETA: 0s - loss: 0.1159 - accuracy: 0.9561 - precision: 0.9872 - recall: 0.9251\n",
      "Epoch 00055: val_loss did not improve from 0.37626\n",
      "42/42 [==============================] - 9s 221ms/step - loss: 0.1159 - accuracy: 0.9561 - precision: 0.9872 - recall: 0.9251 - val_loss: 0.7259 - val_accuracy: 0.7812 - val_precision: 0.9737 - val_recall: 0.5781\n",
      "Epoch 56/100\n",
      "42/42 [==============================] - ETA: 0s - loss: 0.1189 - accuracy: 0.9561 - precision: 0.9870 - recall: 0.9241\n",
      "Epoch 00056: val_loss did not improve from 0.37626\n",
      "42/42 [==============================] - 9s 220ms/step - loss: 0.1189 - accuracy: 0.9561 - precision: 0.9870 - recall: 0.9241 - val_loss: 0.6091 - val_accuracy: 0.7891 - val_precision: 1.0000 - val_recall: 0.5781\n",
      "Epoch 57/100\n",
      "42/42 [==============================] - ETA: 0s - loss: 0.1279 - accuracy: 0.9486 - precision: 0.9789 - recall: 0.9163\n",
      "Epoch 00057: val_loss did not improve from 0.37626\n",
      "42/42 [==============================] - 9s 220ms/step - loss: 0.1279 - accuracy: 0.9486 - precision: 0.9789 - recall: 0.9163 - val_loss: 0.6494 - val_accuracy: 0.7969 - val_precision: 1.0000 - val_recall: 0.5938\n",
      "Epoch 58/100\n",
      "42/42 [==============================] - ETA: 0s - loss: 0.1217 - accuracy: 0.9539 - precision: 0.9854 - recall: 0.9213\n",
      "Epoch 00058: val_loss did not improve from 0.37626\n",
      "42/42 [==============================] - 9s 219ms/step - loss: 0.1217 - accuracy: 0.9539 - precision: 0.9854 - recall: 0.9213 - val_loss: 0.4516 - val_accuracy: 0.7969 - val_precision: 1.0000 - val_recall: 0.5806\n",
      "Epoch 59/100\n",
      "42/42 [==============================] - ETA: 0s - loss: 0.1174 - accuracy: 0.9546 - precision: 0.9919 - recall: 0.9173\n",
      "Epoch 00059: val_loss did not improve from 0.37626\n",
      "42/42 [==============================] - 9s 218ms/step - loss: 0.1174 - accuracy: 0.9546 - precision: 0.9919 - recall: 0.9173 - val_loss: 0.4569 - val_accuracy: 0.7812 - val_precision: 1.0000 - val_recall: 0.5625\n",
      "Epoch 60/100\n",
      "42/42 [==============================] - ETA: 0s - loss: 0.1042 - accuracy: 0.9599 - precision: 0.9887 - recall: 0.9303\n",
      "Epoch 00060: val_loss did not improve from 0.37626\n",
      "42/42 [==============================] - 9s 219ms/step - loss: 0.1042 - accuracy: 0.9599 - precision: 0.9887 - recall: 0.9303 - val_loss: 0.5948 - val_accuracy: 0.7734 - val_precision: 0.9756 - val_recall: 0.5882\n",
      "Epoch 61/100\n",
      "42/42 [==============================] - ETA: 0s - loss: 0.0991 - accuracy: 0.9592 - precision: 0.9919 - recall: 0.9255\n",
      "Epoch 00061: val_loss did not improve from 0.37626\n",
      "42/42 [==============================] - 9s 220ms/step - loss: 0.0991 - accuracy: 0.9592 - precision: 0.9919 - recall: 0.9255 - val_loss: 0.5503 - val_accuracy: 0.8203 - val_precision: 1.0000 - val_recall: 0.6167\n",
      "Epoch 62/100\n",
      "42/42 [==============================] - ETA: 0s - loss: 0.1065 - accuracy: 0.9614 - precision: 0.9904 - recall: 0.9320\n",
      "Epoch 00062: val_loss did not improve from 0.37626\n",
      "42/42 [==============================] - 9s 220ms/step - loss: 0.1065 - accuracy: 0.9614 - precision: 0.9904 - recall: 0.9320 - val_loss: 0.5430 - val_accuracy: 0.7969 - val_precision: 0.9750 - val_recall: 0.6094\n",
      "Epoch 63/100\n",
      "42/42 [==============================] - ETA: 0s - loss: 0.1057 - accuracy: 0.9576 - precision: 0.9902 - recall: 0.9239\n",
      "Epoch 00063: val_loss did not improve from 0.37626\n",
      "42/42 [==============================] - 9s 217ms/step - loss: 0.1057 - accuracy: 0.9576 - precision: 0.9902 - recall: 0.9239 - val_loss: 0.7190 - val_accuracy: 0.7734 - val_precision: 1.0000 - val_recall: 0.5323\n",
      "Epoch 64/100\n",
      "42/42 [==============================] - ETA: 0s - loss: 0.1186 - accuracy: 0.9539 - precision: 0.9886 - recall: 0.9183\n",
      "Epoch 00064: val_loss did not improve from 0.37626\n",
      "42/42 [==============================] - 9s 220ms/step - loss: 0.1186 - accuracy: 0.9539 - precision: 0.9886 - recall: 0.9183 - val_loss: 0.6624 - val_accuracy: 0.7812 - val_precision: 1.0000 - val_recall: 0.5692\n",
      "Epoch 65/100\n",
      "42/42 [==============================] - ETA: 0s - loss: 0.1189 - accuracy: 0.9561 - precision: 0.9871 - recall: 0.9242\n",
      "Epoch 00065: val_loss did not improve from 0.37626\n",
      "42/42 [==============================] - 9s 223ms/step - loss: 0.1189 - accuracy: 0.9561 - precision: 0.9871 - recall: 0.9242 - val_loss: 0.7502 - val_accuracy: 0.7891 - val_precision: 0.9744 - val_recall: 0.5938\n",
      "Epoch 66/100\n",
      "42/42 [==============================] - ETA: 0s - loss: 0.1007 - accuracy: 0.9592 - precision: 0.9872 - recall: 0.9304\n",
      "Epoch 00066: val_loss did not improve from 0.37626\n",
      "42/42 [==============================] - 9s 220ms/step - loss: 0.1007 - accuracy: 0.9592 - precision: 0.9872 - recall: 0.9304 - val_loss: 0.7596 - val_accuracy: 0.8047 - val_precision: 1.0000 - val_recall: 0.6212\n",
      "Epoch 67/100\n",
      "42/42 [==============================] - ETA: 0s - loss: 0.1115 - accuracy: 0.9584 - precision: 0.9872 - recall: 0.9292\n",
      "Epoch 00067: val_loss did not improve from 0.37626\n",
      "42/42 [==============================] - 9s 221ms/step - loss: 0.1115 - accuracy: 0.9584 - precision: 0.9872 - recall: 0.9292 - val_loss: 0.5970 - val_accuracy: 0.8047 - val_precision: 1.0000 - val_recall: 0.6269\n",
      "Epoch 68/100\n",
      "42/42 [==============================] - ETA: 0s - loss: 0.1171 - accuracy: 0.9546 - precision: 0.9869 - recall: 0.9207\n",
      "Epoch 00068: val_loss did not improve from 0.37626\n",
      "42/42 [==============================] - 9s 225ms/step - loss: 0.1171 - accuracy: 0.9546 - precision: 0.9869 - recall: 0.9207 - val_loss: 0.5824 - val_accuracy: 0.8125 - val_precision: 1.0000 - val_recall: 0.6250\n",
      "Epoch 69/100\n",
      "42/42 [==============================] - ETA: 0s - loss: 0.0977 - accuracy: 0.9599 - precision: 0.9919 - recall: 0.9275\n",
      "Epoch 00069: val_loss did not improve from 0.37626\n",
      "42/42 [==============================] - 9s 223ms/step - loss: 0.0977 - accuracy: 0.9599 - precision: 0.9919 - recall: 0.9275 - val_loss: 0.6895 - val_accuracy: 0.7891 - val_precision: 1.0000 - val_recall: 0.5909\n",
      "Epoch 70/100\n",
      "42/42 [==============================] - ETA: 0s - loss: 0.1068 - accuracy: 0.9554 - precision: 0.9902 - recall: 0.9197\n",
      "Epoch 00070: val_loss did not improve from 0.37626\n",
      "42/42 [==============================] - 9s 222ms/step - loss: 0.1068 - accuracy: 0.9554 - precision: 0.9902 - recall: 0.9197 - val_loss: 0.6896 - val_accuracy: 0.8047 - val_precision: 1.0000 - val_recall: 0.5968\n",
      "Epoch 71/100\n",
      "42/42 [==============================] - ETA: 0s - loss: 0.0890 - accuracy: 0.9644 - precision: 0.9936 - recall: 0.9349\n",
      "Epoch 00071: val_loss did not improve from 0.37626\n",
      "42/42 [==============================] - 10s 231ms/step - loss: 0.0890 - accuracy: 0.9644 - precision: 0.9936 - recall: 0.9349 - val_loss: 0.6275 - val_accuracy: 0.8047 - val_precision: 0.9744 - val_recall: 0.6129\n",
      "Epoch 72/100\n",
      "42/42 [==============================] - ETA: 0s - loss: 0.0904 - accuracy: 0.9644 - precision: 0.9951 - recall: 0.9331\n",
      "Epoch 00072: val_loss did not improve from 0.37626\n",
      "42/42 [==============================] - 10s 234ms/step - loss: 0.0904 - accuracy: 0.9644 - precision: 0.9951 - recall: 0.9331 - val_loss: 0.5982 - val_accuracy: 0.8125 - val_precision: 1.0000 - val_recall: 0.6364\n",
      "Epoch 73/100\n",
      "42/42 [==============================] - ETA: 0s - loss: 0.0937 - accuracy: 0.9644 - precision: 0.9952 - recall: 0.9336\n",
      "Epoch 00073: val_loss did not improve from 0.37626\n",
      "42/42 [==============================] - 10s 234ms/step - loss: 0.0937 - accuracy: 0.9644 - precision: 0.9952 - recall: 0.9336 - val_loss: 0.7156 - val_accuracy: 0.7891 - val_precision: 1.0000 - val_recall: 0.5781\n",
      "Epoch 74/100\n",
      "42/42 [==============================] - ETA: 0s - loss: 0.0986 - accuracy: 0.9584 - precision: 0.9871 - recall: 0.9285\n",
      "Epoch 00074: val_loss did not improve from 0.37626\n",
      "42/42 [==============================] - 10s 237ms/step - loss: 0.0986 - accuracy: 0.9584 - precision: 0.9871 - recall: 0.9285 - val_loss: 0.5194 - val_accuracy: 0.8047 - val_precision: 0.9767 - val_recall: 0.6364\n",
      "Epoch 75/100\n",
      "42/42 [==============================] - ETA: 0s - loss: 0.1113 - accuracy: 0.9561 - precision: 0.9856 - recall: 0.9263\n",
      "Epoch 00075: val_loss did not improve from 0.37626\n",
      "42/42 [==============================] - 10s 234ms/step - loss: 0.1113 - accuracy: 0.9561 - precision: 0.9856 - recall: 0.9263 - val_loss: 1.0608 - val_accuracy: 0.7891 - val_precision: 1.0000 - val_recall: 0.5645\n",
      "Epoch 76/100\n",
      "42/42 [==============================] - ETA: 0s - loss: 0.1196 - accuracy: 0.9546 - precision: 0.9839 - recall: 0.9242\n",
      "Epoch 00076: val_loss did not improve from 0.37626\n",
      "42/42 [==============================] - 10s 236ms/step - loss: 0.1196 - accuracy: 0.9546 - precision: 0.9839 - recall: 0.9242 - val_loss: 0.5752 - val_accuracy: 0.7969 - val_precision: 1.0000 - val_recall: 0.5806\n",
      "Epoch 77/100\n",
      "42/42 [==============================] - ETA: 0s - loss: 0.1001 - accuracy: 0.9614 - precision: 0.9951 - recall: 0.9273\n",
      "Epoch 00077: val_loss did not improve from 0.37626\n",
      "42/42 [==============================] - 10s 237ms/step - loss: 0.1001 - accuracy: 0.9614 - precision: 0.9951 - recall: 0.9273 - val_loss: 0.4901 - val_accuracy: 0.7891 - val_precision: 1.0000 - val_recall: 0.5846\n",
      "Epoch 78/100\n",
      "42/42 [==============================] - ETA: 0s - loss: 0.1023 - accuracy: 0.9576 - precision: 0.9887 - recall: 0.9260\n",
      "Epoch 00078: val_loss did not improve from 0.37626\n",
      "42/42 [==============================] - 10s 238ms/step - loss: 0.1023 - accuracy: 0.9576 - precision: 0.9887 - recall: 0.9260 - val_loss: 0.4636 - val_accuracy: 0.8047 - val_precision: 1.0000 - val_recall: 0.6269\n",
      "Epoch 79/100\n",
      "42/42 [==============================] - ETA: 0s - loss: 0.0938 - accuracy: 0.9599 - precision: 0.9902 - recall: 0.9284\n",
      "Epoch 00079: val_loss did not improve from 0.37626\n",
      "42/42 [==============================] - 10s 235ms/step - loss: 0.0938 - accuracy: 0.9599 - precision: 0.9902 - recall: 0.9284 - val_loss: 0.3992 - val_accuracy: 0.8203 - val_precision: 1.0000 - val_recall: 0.6462\n",
      "Epoch 80/100\n",
      "42/42 [==============================] - ETA: 0s - loss: 0.1170 - accuracy: 0.9569 - precision: 0.9825 - recall: 0.9305\n",
      "Epoch 00080: val_loss did not improve from 0.37626\n",
      "42/42 [==============================] - 10s 237ms/step - loss: 0.1170 - accuracy: 0.9569 - precision: 0.9825 - recall: 0.9305 - val_loss: 0.4798 - val_accuracy: 0.7656 - val_precision: 0.9474 - val_recall: 0.5625\n",
      "Epoch 81/100\n",
      "42/42 [==============================] - ETA: 0s - loss: 0.1337 - accuracy: 0.9516 - precision: 0.9853 - recall: 0.9165\n",
      "Epoch 00081: val_loss did not improve from 0.37626\n",
      "42/42 [==============================] - 10s 238ms/step - loss: 0.1337 - accuracy: 0.9516 - precision: 0.9853 - recall: 0.9165 - val_loss: 0.5954 - val_accuracy: 0.8047 - val_precision: 1.0000 - val_recall: 0.6212\n",
      "Epoch 82/100\n",
      "42/42 [==============================] - ETA: 0s - loss: 0.1011 - accuracy: 0.9592 - precision: 0.9888 - recall: 0.9292\n",
      "Epoch 00082: val_loss did not improve from 0.37626\n",
      "42/42 [==============================] - 10s 238ms/step - loss: 0.1011 - accuracy: 0.9592 - precision: 0.9888 - recall: 0.9292 - val_loss: 0.6979 - val_accuracy: 0.7969 - val_precision: 1.0000 - val_recall: 0.5873\n",
      "Epoch 83/100\n",
      "42/42 [==============================] - ETA: 0s - loss: 0.0974 - accuracy: 0.9629 - precision: 0.9919 - recall: 0.9330\n",
      "Epoch 00083: val_loss did not improve from 0.37626\n",
      "42/42 [==============================] - 9s 222ms/step - loss: 0.0974 - accuracy: 0.9629 - precision: 0.9919 - recall: 0.9330 - val_loss: 0.5573 - val_accuracy: 0.8125 - val_precision: 1.0000 - val_recall: 0.6129\n",
      "Epoch 84/100\n",
      "42/42 [==============================] - ETA: 0s - loss: 0.0944 - accuracy: 0.9614 - precision: 0.9919 - recall: 0.9303\n",
      "Epoch 00084: val_loss did not improve from 0.37626\n",
      "42/42 [==============================] - 9s 224ms/step - loss: 0.0944 - accuracy: 0.9614 - precision: 0.9919 - recall: 0.9303 - val_loss: 0.6446 - val_accuracy: 0.7891 - val_precision: 1.0000 - val_recall: 0.5781\n",
      "Epoch 85/100\n",
      "42/42 [==============================] - ETA: 0s - loss: 0.1026 - accuracy: 0.9592 - precision: 0.9888 - recall: 0.9292\n",
      "Epoch 00085: val_loss did not improve from 0.37626\n",
      "42/42 [==============================] - 9s 217ms/step - loss: 0.1026 - accuracy: 0.9592 - precision: 0.9888 - recall: 0.9292 - val_loss: 0.7690 - val_accuracy: 0.8125 - val_precision: 1.0000 - val_recall: 0.6250\n",
      "Epoch 86/100\n",
      "42/42 [==============================] - ETA: 0s - loss: 0.1049 - accuracy: 0.9629 - precision: 0.9935 - recall: 0.9319\n",
      "Epoch 00086: val_loss did not improve from 0.37626\n",
      "42/42 [==============================] - 9s 220ms/step - loss: 0.1049 - accuracy: 0.9629 - precision: 0.9935 - recall: 0.9319 - val_loss: 0.8021 - val_accuracy: 0.7969 - val_precision: 1.0000 - val_recall: 0.6061\n",
      "Epoch 87/100\n",
      "42/42 [==============================] - ETA: 0s - loss: 0.0970 - accuracy: 0.9546 - precision: 0.9871 - recall: 0.9215\n",
      "Epoch 00087: val_loss did not improve from 0.37626\n",
      "42/42 [==============================] - 9s 218ms/step - loss: 0.0970 - accuracy: 0.9546 - precision: 0.9871 - recall: 0.9215 - val_loss: 0.5888 - val_accuracy: 0.7969 - val_precision: 1.0000 - val_recall: 0.5938\n",
      "Epoch 88/100\n",
      "42/42 [==============================] - ETA: 0s - loss: 0.1102 - accuracy: 0.9622 - precision: 0.9919 - recall: 0.9319\n",
      "Epoch 00088: val_loss did not improve from 0.37626\n",
      "42/42 [==============================] - 9s 218ms/step - loss: 0.1102 - accuracy: 0.9622 - precision: 0.9919 - recall: 0.9319 - val_loss: 0.4863 - val_accuracy: 0.8125 - val_precision: 1.0000 - val_recall: 0.6364\n",
      "Epoch 89/100\n",
      "42/42 [==============================] - ETA: 0s - loss: 0.0881 - accuracy: 0.9652 - precision: 0.9936 - recall: 0.9367\n",
      "Epoch 00089: val_loss did not improve from 0.37626\n",
      "42/42 [==============================] - 9s 217ms/step - loss: 0.0881 - accuracy: 0.9652 - precision: 0.9936 - recall: 0.9367 - val_loss: 0.4794 - val_accuracy: 0.8438 - val_precision: 1.0000 - val_recall: 0.6721\n",
      "Epoch 90/100\n",
      "42/42 [==============================] - ETA: 0s - loss: 0.1237 - accuracy: 0.9576 - precision: 0.9824 - recall: 0.9318\n",
      "Epoch 00090: val_loss did not improve from 0.37626\n",
      "42/42 [==============================] - 9s 216ms/step - loss: 0.1237 - accuracy: 0.9576 - precision: 0.9824 - recall: 0.9318 - val_loss: 0.4464 - val_accuracy: 0.7969 - val_precision: 1.0000 - val_recall: 0.6119\n",
      "Epoch 91/100\n",
      "42/42 [==============================] - ETA: 0s - loss: 0.1063 - accuracy: 0.9584 - precision: 0.9967 - recall: 0.9201\n",
      "Epoch 00091: val_loss did not improve from 0.37626\n",
      "42/42 [==============================] - 9s 215ms/step - loss: 0.1063 - accuracy: 0.9584 - precision: 0.9967 - recall: 0.9201 - val_loss: 0.6909 - val_accuracy: 0.7812 - val_precision: 1.0000 - val_recall: 0.6000\n",
      "Epoch 92/100\n",
      "42/42 [==============================] - ETA: 0s - loss: 0.0920 - accuracy: 0.9614 - precision: 0.9920 - recall: 0.9306\n",
      "Epoch 00092: val_loss did not improve from 0.37626\n",
      "42/42 [==============================] - 9s 217ms/step - loss: 0.0920 - accuracy: 0.9614 - precision: 0.9920 - recall: 0.9306 - val_loss: 0.5973 - val_accuracy: 0.7891 - val_precision: 1.0000 - val_recall: 0.5781\n",
      "Epoch 93/100\n",
      "42/42 [==============================] - ETA: 0s - loss: 0.1045 - accuracy: 0.9592 - precision: 0.9935 - recall: 0.9242\n",
      "Epoch 00093: val_loss did not improve from 0.37626\n",
      "42/42 [==============================] - 9s 217ms/step - loss: 0.1045 - accuracy: 0.9592 - precision: 0.9935 - recall: 0.9242 - val_loss: 0.7696 - val_accuracy: 0.7812 - val_precision: 1.0000 - val_recall: 0.5625\n",
      "Epoch 94/100\n",
      "42/42 [==============================] - ETA: 0s - loss: 0.1048 - accuracy: 0.9569 - precision: 0.9855 - recall: 0.9274\n",
      "Epoch 00094: val_loss did not improve from 0.37626\n",
      "42/42 [==============================] - 9s 218ms/step - loss: 0.1048 - accuracy: 0.9569 - precision: 0.9855 - recall: 0.9274 - val_loss: 0.5186 - val_accuracy: 0.8125 - val_precision: 1.0000 - val_recall: 0.6190\n",
      "Epoch 95/100\n",
      "42/42 [==============================] - ETA: 0s - loss: 0.0927 - accuracy: 0.9644 - precision: 0.9968 - recall: 0.9319\n",
      "Epoch 00095: val_loss did not improve from 0.37626\n",
      "42/42 [==============================] - 9s 217ms/step - loss: 0.0927 - accuracy: 0.9644 - precision: 0.9968 - recall: 0.9319 - val_loss: 0.6318 - val_accuracy: 0.7969 - val_precision: 1.0000 - val_recall: 0.6119\n",
      "Epoch 96/100\n",
      "42/42 [==============================] - ETA: 0s - loss: 0.0918 - accuracy: 0.9644 - precision: 0.9873 - recall: 0.9411\n",
      "Epoch 00096: val_loss did not improve from 0.37626\n",
      "42/42 [==============================] - 9s 220ms/step - loss: 0.0918 - accuracy: 0.9644 - precision: 0.9873 - recall: 0.9411 - val_loss: 0.6907 - val_accuracy: 0.8281 - val_precision: 1.0000 - val_recall: 0.6615\n",
      "Epoch 97/100\n",
      "42/42 [==============================] - ETA: 0s - loss: 0.0820 - accuracy: 0.9660 - precision: 0.9968 - recall: 0.9348\n",
      "Epoch 00097: val_loss did not improve from 0.37626\n",
      "42/42 [==============================] - 9s 222ms/step - loss: 0.0820 - accuracy: 0.9660 - precision: 0.9968 - recall: 0.9348 - val_loss: 0.7670 - val_accuracy: 0.8203 - val_precision: 1.0000 - val_recall: 0.6406\n",
      "Epoch 98/100\n",
      "42/42 [==============================] - ETA: 0s - loss: 0.0837 - accuracy: 0.9644 - precision: 0.9937 - recall: 0.9357\n",
      "Epoch 00098: val_loss did not improve from 0.37626\n",
      "42/42 [==============================] - 10s 235ms/step - loss: 0.0837 - accuracy: 0.9644 - precision: 0.9937 - recall: 0.9357 - val_loss: 0.7436 - val_accuracy: 0.8203 - val_precision: 1.0000 - val_recall: 0.6462\n",
      "Epoch 99/100\n",
      "42/42 [==============================] - ETA: 0s - loss: 0.0788 - accuracy: 0.9660 - precision: 0.9952 - recall: 0.9367\n",
      "Epoch 00099: val_loss did not improve from 0.37626\n",
      "42/42 [==============================] - 10s 236ms/step - loss: 0.0788 - accuracy: 0.9660 - precision: 0.9952 - recall: 0.9367 - val_loss: 0.6336 - val_accuracy: 0.8047 - val_precision: 1.0000 - val_recall: 0.6269\n",
      "Epoch 100/100\n",
      "42/42 [==============================] - ETA: 0s - loss: 0.0748 - accuracy: 0.9705 - precision: 0.9984 - recall: 0.9427\n",
      "Epoch 00100: val_loss did not improve from 0.37626\n",
      "42/42 [==============================] - 9s 217ms/step - loss: 0.0748 - accuracy: 0.9705 - precision: 0.9984 - recall: 0.9427 - val_loss: 0.8727 - val_accuracy: 0.8047 - val_precision: 1.0000 - val_recall: 0.5968\n"
     ]
    }
   ],
   "source": [
    "history = model.fit(train_generator,\n",
    "         steps_per_epoch = train_generator.samples // batch_size,\n",
    "         validation_data = validation_generator,\n",
    "         validation_steps = validation_generator.samples // batch_size,\n",
    "         epochs = 100,\n",
    "         callbacks=[checkpoint, csv_log]\n",
    "                     )"
   ]
  },
  {
   "cell_type": "code",
   "execution_count": 14,
   "metadata": {
    "colab": {
     "base_uri": "https://localhost:8080/",
     "height": 588
    },
    "id": "3VscuC-yOWPK",
    "outputId": "9b136415-3425-4c58-c037-5191ad9cd4e0"
   },
   "outputs": [
    {
     "data": {
      "image/png": "[encoded data removed]",
      "text/plain": [
       "<Figure size 1440x720 with 4 Axes>"
      ]
     },
     "metadata": {
      "needs_background": "light"
     },
     "output_type": "display_data"
    }
   ],
   "source": [
    "# Interpreting the Metrics \n",
    "fig, ax = plt.subplots(2, 2, figsize=(20, 10))\n",
    "ax = ax.ravel()\n",
    "\n",
    "for i, met in enumerate(['precision', 'recall', 'accuracy', 'loss']):\n",
    "    ax[i].plot(history.history[met])\n",
    "    ax[i].plot(history.history['val_' + met])\n",
    "    ax[i].set_title('Model {}'.format(met))\n",
    "    ax[i].set_xlabel('epochs')\n",
    "    ax[i].set_ylabel(met)\n",
    "    ax[i].legend(['train', 'val'])"
   ]
  },
  {
   "cell_type": "code",
   "execution_count": 13,
   "metadata": {
    "id": "TYP9gSoMPiwE"
   },
   "outputs": [],
   "source": [
    "# Saving the best Model\n",
    "# Load the best weights\n",
    "model.load_weights(\"bw_base.h5\")\n",
    "# Save the whole model (weigths + architecture)\n",
    "model.save(\"base.h5\")"
   ]
  },
  {
   "cell_type": "code",
   "execution_count": 15,
   "metadata": {
    "id": "zvxkmcL8PtHO"
   },
   "outputs": [],
   "source": [
    "# Loading the whole model\n",
    "loaded_model = tf.keras.models.load_model(\"base.h5\")"
   ]
  },
  {
   "cell_type": "code",
   "execution_count": 16,
   "metadata": {
    "id": "T-XzKbxyPvI4"
   },
   "outputs": [],
   "source": [
    "test_data_dir= Path(\"/content/Dataset_3_channel/Test\")"
   ]
  },
  {
   "cell_type": "code",
   "execution_count": 17,
   "metadata": {
    "id": "K7Eo1TwUPxIy"
   },
   "outputs": [],
   "source": [
    "test_datagen = ImageDataGenerator(rescale=1./255, validation_split=0) # set test split"
   ]
  },
  {
   "cell_type": "code",
   "execution_count": 18,
   "metadata": {
    "colab": {
     "base_uri": "https://localhost:8080/"
    },
    "id": "nnRxLOO8P0jF",
    "outputId": "a7f21a4b-cfc0-40d1-f5ad-531fdf5de7eb"
   },
   "outputs": [
    {
     "name": "stdout",
     "output_type": "stream",
     "text": [
      "Found 320 images belonging to 2 classes.\n"
     ]
    }
   ],
   "source": [
    "test_generator = test_datagen.flow_from_directory(\n",
    "    test_data_dir,\n",
    "    target_size=(img_height, img_width),\n",
    "    batch_size=32,\n",
    "    class_mode='binary',\n",
    "    subset='training')"
   ]
  },
  {
   "cell_type": "code",
   "execution_count": 19,
   "metadata": {
    "colab": {
     "base_uri": "https://localhost:8080/"
    },
    "id": "6Z9YgDGwP2bp",
    "outputId": "d83f83a8-9e29-47ac-d188-09cfa0aeb342"
   },
   "outputs": [
    {
     "name": "stdout",
     "output_type": "stream",
     "text": [
      "10/10 [==============================] - 2s 166ms/step - loss: 0.4268 - accuracy: 0.8562 - precision: 0.8851 - recall: 0.8188\n",
      " Testing Acc :  0.856249988079071\n",
      " Testing Precision  0.8851351141929626\n",
      " Testing Recall  0.8187500238418579\n"
     ]
    }
   ],
   "source": [
    "# Evaluating the loaded model\n",
    "loss, acc, prec, rec = loaded_model.evaluate(test_generator)\n",
    "\n",
    "print(\" Testing Acc : \" , acc)\n",
    "print(\" Testing Precision \" , prec)\n",
    "print(\" Testing Recall \" , rec)"
   ]
  },
  {
   "cell_type": "code",
   "execution_count": 20,
   "metadata": {
    "id": "apk4A7fKP40H"
   },
   "outputs": [],
   "source": [
    "# for best model we got\n",
    "prect = 0.8851351141929626\n",
    "rect = 0.8187500238418579"
   ]
  },
  {
   "cell_type": "code",
   "execution_count": 21,
   "metadata": {
    "colab": {
     "base_uri": "https://localhost:8080/"
    },
    "id": "kz64iUDpP-d2",
    "outputId": "c6f484c3-5694-4690-8d63-454d7e8442c8"
   },
   "outputs": [
    {
     "data": {
      "text/plain": [
       "0.850649353846226"
      ]
     },
     "execution_count": 21,
     "metadata": {},
     "output_type": "execute_result"
    }
   ],
   "source": [
    "F1t = 2*((prect*rect)/(prect+rect))\n",
    "F1t"
   ]
  },
  {
   "cell_type": "code",
   "execution_count": 2,
   "metadata": {
    "id": "XH946iEeXjTZ"
   },
   "outputs": [],
   "source": []
  },
  {
   "cell_type": "markdown",
   "metadata": {},
   "source": [
    "## tif to png"
   ]
  },
  {
   "cell_type": "code",
   "execution_count": 3,
   "metadata": {},
   "outputs": [
    {
     "name": "stdout",
     "output_type": "stream",
     "text": [
      "file : 535.tiff\n"
     ]
    }
   ],
   "source": [
    "import cv2, os\n",
    "base_path = \"E:\\\\U_net\\\\UD\\\\NewUnet\\\\train_mask\\\\train\\\\\"\n",
    "new_path = \"D:\\\\\"\n",
    "for infile in os.listdir(base_path):\n",
    "    if infile == '535.tiff':\n",
    "        print (\"file : \" + infile)\n",
    "        read = cv2.imread(base_path + infile)\n",
    "        outfile = infile.split('.')[0] + '.jpg'\n",
    "        cv2.imwrite(new_path+outfile,read,[int(cv2.IMWRITE_JPEG_QUALITY), 200])"
   ]
  },
  {
   "cell_type": "code",
   "execution_count": null,
   "metadata": {},
   "outputs": [],
   "source": []
  }
 ],
 "metadata": {
  "accelerator": "GPU",
  "colab": {
   "collapsed_sections": [],
   "name": "Untitled1.ipynb",
   "provenance": []
  },
  "kernelspec": {
   "display_name": "Python 3 (ipykernel)",
   "language": "python",
   "name": "python3"
  },
  "language_info": {
   "codemirror_mode": {
    "name": "ipython",
    "version": 3
   },
   "file_extension": ".py",
   "mimetype": "text/x-python",
   "name": "python",
   "nbconvert_exporter": "python",
   "pygments_lexer": "ipython3",
   "version": "3.8.11"
  }
 },
 "nbformat": 4,
 "nbformat_minor": 1
}

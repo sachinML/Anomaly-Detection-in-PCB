{
 "cells": [
  {
   "cell_type": "code",
   "execution_count": 1,
   "metadata": {
    "colab": {
     "base_uri": "https://localhost:8080/"
    },
    "id": "Fk8BJ_TzOg6J",
    "outputId": "9f767fe2-bfd3-4268-da7f-4e15661c9097"
   },
   "outputs": [
    {
     "name": "stdout",
     "output_type": "stream",
     "text": [
      "Sat Jan 15 13:34:08 2022       \n",
      "+-----------------------------------------------------------------------------+\n",
      "| NVIDIA-SMI 495.46       Driver Version: 460.32.03    CUDA Version: 11.2     |\n",
      "|-------------------------------+----------------------+----------------------+\n",
      "| GPU  Name        Persistence-M| Bus-Id        Disp.A | Volatile Uncorr. ECC |\n",
      "| Fan  Temp  Perf  Pwr:Usage/Cap|         Memory-Usage | GPU-Util  Compute M. |\n",
      "|                               |                      |               MIG M. |\n",
      "|===============================+======================+======================|\n",
      "|   0  Tesla T4            Off  | 00000000:00:04.0 Off |                    0 |\n",
      "| N/A   45C    P8     9W /  70W |      0MiB / 15109MiB |      0%      Default |\n",
      "|                               |                      |                  N/A |\n",
      "+-------------------------------+----------------------+----------------------+\n",
      "                                                                               \n",
      "+-----------------------------------------------------------------------------+\n",
      "| Processes:                                                                  |\n",
      "|  GPU   GI   CI        PID   Type   Process name                  GPU Memory |\n",
      "|        ID   ID                                                   Usage      |\n",
      "|=============================================================================|\n",
      "|  No running processes found                                                 |\n",
      "+-----------------------------------------------------------------------------+\n"
     ]
    }
   ],
   "source": [
    "!nvidia-smi"
   ]
  },
  {
   "cell_type": "code",
   "execution_count": 2,
   "metadata": {
    "colab": {
     "base_uri": "https://localhost:8080/"
    },
    "id": "OSkaRgu2Ot0_",
    "outputId": "fd69acd9-9fd3-4cdb-9829-a307a8d46fb9",
    "scrolled": true
   },
   "outputs": [
    {
     "name": "stdout",
     "output_type": "stream",
     "text": [
      "--2022-01-15 13:34:14--  https://www.dropbox.com/s/bg4p13u0p6h6u47/Dataset_3_channel.zip?dl=0\n",
      "Resolving www.dropbox.com (www.dropbox.com)... 162.125.1.18, 2620:100:6016:18::a27d:112\n",
      "Connecting to www.dropbox.com (www.dropbox.com)|162.125.1.18|:443... connected.\n",
      "HTTP request sent, awaiting response... 301 Moved Permanently\n",
      "Location: /s/raw/bg4p13u0p6h6u47/Dataset_3_channel.zip [following]\n",
      "--2022-01-15 13:34:14--  https://www.dropbox.com/s/raw/bg4p13u0p6h6u47/Dataset_3_channel.zip\n",
      "Reusing existing connection to www.dropbox.com:443.\n",
      "HTTP request sent, awaiting response... 302 Found\n",
      "Location: https://uc798e3aa8992d109cf078088f53.dl.dropboxusercontent.com/cd/0/inline/Bd0_TFVTJHDOF69O0fGHnakvoTIsl932f3kkt1x952ulbAmRfHrsDKBlBtzkojzwczN1sGJmdPELQ8bY2RYOYJ_O6bY71xRceRJ_uqhJXuRbDZRsJSwLb1cv9Ds5jZvZ26I_JMuJmzePZARNUgEt2RCZ/file# [following]\n",
      "--2022-01-15 13:34:14--  https://uc798e3aa8992d109cf078088f53.dl.dropboxusercontent.com/cd/0/inline/Bd0_TFVTJHDOF69O0fGHnakvoTIsl932f3kkt1x952ulbAmRfHrsDKBlBtzkojzwczN1sGJmdPELQ8bY2RYOYJ_O6bY71xRceRJ_uqhJXuRbDZRsJSwLb1cv9Ds5jZvZ26I_JMuJmzePZARNUgEt2RCZ/file\n",
      "Resolving uc798e3aa8992d109cf078088f53.dl.dropboxusercontent.com (uc798e3aa8992d109cf078088f53.dl.dropboxusercontent.com)... 162.125.7.15, 2620:100:6021:15::a27d:410f\n",
      "Connecting to uc798e3aa8992d109cf078088f53.dl.dropboxusercontent.com (uc798e3aa8992d109cf078088f53.dl.dropboxusercontent.com)|162.125.7.15|:443... connected.\n",
      "HTTP request sent, awaiting response... 302 Found\n",
      "Location: /cd/0/inline2/Bd0sktbrLFcdyA6ZlTz1LQ1PZVSx0_4uCLEPEIpd1IEkcF_0MKTaok4o3n4dNfvBStkZQU_bHj5pojnDlVJw01fGfeiDYw5803LajH1ZurceQ6THI4crt2Om3YG2LgsdgWXV5Z6FnG_2c_xs6qNA291dV7Hxx_YcN17XW27eN6aVmz6_FfGwnON-YLi1givQn5Se_u0Opn39_8G7MitWi2LrCKkWsR_NDiuw8uN_8Lc9BYpkwRzUTZnpdVKxmDQCEwkA1HKtffiXGV76FXJhabugcghuzKwFPg50pRA0T2j_cJp9GOfIzA4wYDZHcqkG12qaPdOk2YbXQ4pTqkBxeSfhqhapLdMoXWyYxZItRSnOA1pKpVX1P7vpwJfUbbT2X9E/file [following]\n",
      "--2022-01-15 13:34:14--  https://uc798e3aa8992d109cf078088f53.dl.dropboxusercontent.com/cd/0/inline2/Bd0sktbrLFcdyA6ZlTz1LQ1PZVSx0_4uCLEPEIpd1IEkcF_0MKTaok4o3n4dNfvBStkZQU_bHj5pojnDlVJw01fGfeiDYw5803LajH1ZurceQ6THI4crt2Om3YG2LgsdgWXV5Z6FnG_2c_xs6qNA291dV7Hxx_YcN17XW27eN6aVmz6_FfGwnON-YLi1givQn5Se_u0Opn39_8G7MitWi2LrCKkWsR_NDiuw8uN_8Lc9BYpkwRzUTZnpdVKxmDQCEwkA1HKtffiXGV76FXJhabugcghuzKwFPg50pRA0T2j_cJp9GOfIzA4wYDZHcqkG12qaPdOk2YbXQ4pTqkBxeSfhqhapLdMoXWyYxZItRSnOA1pKpVX1P7vpwJfUbbT2X9E/file\n",
      "Reusing existing connection to uc798e3aa8992d109cf078088f53.dl.dropboxusercontent.com:443.\n",
      "HTTP request sent, awaiting response... 200 OK\n",
      "Length: 276650499 (264M) [application/zip]\n",
      "Saving to: ‘Dataset_3_channel.zip?dl=0’\n",
      "\n",
      "Dataset_3_channel.z 100%[===================>] 263.83M   105MB/s    in 2.5s    \n",
      "\n",
      "2022-01-15 13:34:17 (105 MB/s) - ‘Dataset_3_channel.zip?dl=0’ saved [276650499/276650499]\n",
      "\n"
     ]
    }
   ],
   "source": [
    "!wget https://www.dropbox.com/s/bg4p13u0p6h6u47/Dataset_3_channel.zip?dl=0"
   ]
  },
  {
   "cell_type": "code",
   "execution_count": 3,
   "metadata": {
    "id": "f0JCB9a7O6Mg"
   },
   "outputs": [],
   "source": [
    "!unzip -q \"/content/Dataset_3_channel.zip?dl=0\""
   ]
  },
  {
   "cell_type": "code",
   "execution_count": 4,
   "metadata": {
    "id": "hDj19shBPOW0"
   },
   "outputs": [],
   "source": [
    "import tensorflow as tf\n",
    "import numpy as np\n",
    "from tensorflow import keras\n",
    "import os\n",
    "import cv2\n",
    "from tensorflow.keras.preprocessing.image import ImageDataGenerator\n",
    "from tensorflow.keras.preprocessing import image\n",
    "import matplotlib.pyplot as plt\n",
    "#from livelossplot import PlotLossesKerasTF"
   ]
  },
  {
   "cell_type": "code",
   "execution_count": 5,
   "metadata": {
    "id": "VzhltZeZPSwD"
   },
   "outputs": [],
   "source": [
    "img_height = 300\n",
    "img_width = 300\n",
    "batch_size = 32"
   ]
  },
  {
   "cell_type": "code",
   "execution_count": 6,
   "metadata": {
    "id": "lLhhRReePUlk"
   },
   "outputs": [],
   "source": [
    "train_datagen = ImageDataGenerator(rescale=1./255, validation_split=0.1) # set validation split"
   ]
  },
  {
   "cell_type": "code",
   "execution_count": 7,
   "metadata": {
    "id": "nTFpykfJPlGw"
   },
   "outputs": [],
   "source": [
    "from pathlib import Path\n",
    "# Creating the Pathlib PATH objects\n",
    "train_data_dir= Path(\"/content/Dataset_3_channel/Train\")"
   ]
  },
  {
   "cell_type": "code",
   "execution_count": 8,
   "metadata": {
    "colab": {
     "base_uri": "https://localhost:8080/"
    },
    "id": "M7yXEbi3QRHQ",
    "outputId": "ff92702d-0c66-4f45-839d-0177880c16ef"
   },
   "outputs": [
    {
     "name": "stdout",
     "output_type": "stream",
     "text": [
      "Found 1355 images belonging to 2 classes.\n",
      "Found 150 images belonging to 2 classes.\n"
     ]
    }
   ],
   "source": [
    "train_generator = train_datagen.flow_from_directory(\n",
    "    train_data_dir,\n",
    "    target_size=(img_height, img_width),\n",
    "    batch_size=batch_size,\n",
    "    class_mode='binary',\n",
    "    subset='training') # set as training data\n",
    "\n",
    "\n",
    "validation_generator = train_datagen.flow_from_directory(\n",
    "    train_data_dir, # same directory as training data\n",
    "    target_size=(img_height, img_width),\n",
    "    batch_size=batch_size,\n",
    "    class_mode='binary',\n",
    "    subset='validation') # set as validation data"
   ]
  },
  {
   "cell_type": "code",
   "execution_count": 9,
   "metadata": {
    "colab": {
     "base_uri": "https://localhost:8080/"
    },
    "id": "HSZAmrbsQdB2",
    "outputId": "04b1789d-4f01-4a80-ac11-5bc720389f1d"
   },
   "outputs": [
    {
     "name": "stdout",
     "output_type": "stream",
     "text": [
      "Downloading data from https://storage.googleapis.com/tensorflow/keras-applications/resnet/resnet50v2_weights_tf_dim_ordering_tf_kernels_notop.h5\n",
      "94674944/94668760 [==============================] - 0s 0us/step\n",
      "94683136/94668760 [==============================] - 0s 0us/step\n",
      "Model: \"sequential\"\n",
      "_________________________________________________________________\n",
      " Layer (type)                Output Shape              Param #   \n",
      "=================================================================\n",
      " resnet50v2 (Functional)     (None, 10, 10, 2048)      23564800  \n",
      "                                                                 \n",
      " global_average_pooling2d (G  (None, 2048)             0         \n",
      " lobalAveragePooling2D)                                          \n",
      "                                                                 \n",
      " dense (Dense)               (None, 1)                 2049      \n",
      "                                                                 \n",
      "=================================================================\n",
      "Total params: 23,566,849\n",
      "Trainable params: 23,521,409\n",
      "Non-trainable params: 45,440\n",
      "_________________________________________________________________\n"
     ]
    }
   ],
   "source": [
    "# Building ResNet50 model\n",
    "from tensorflow.keras.applications import ResNet50V2\n",
    "\n",
    "backbone = ResNet50V2(\n",
    "    input_shape=(300, 300, 3),\n",
    "    include_top=False\n",
    ")\n",
    "\n",
    "model = tf.keras.Sequential([\n",
    "    backbone,\n",
    "    tf.keras.layers.GlobalAveragePooling2D(),\n",
    "    tf.keras.layers.Dense(1, activation='sigmoid')\n",
    "])\n",
    "\n",
    "model.summary()"
   ]
  },
  {
   "cell_type": "code",
   "execution_count": 10,
   "metadata": {
    "id": "mJkqYbLrQore"
   },
   "outputs": [],
   "source": [
    "# Compiling your model by providing the Optimizer , Loss and Metrics\n",
    "model.compile(\n",
    "    optimizer=tf.keras.optimizers.Adam(learning_rate=0.001, beta_1=0.9, beta_2=0.999, epsilon=1e-07),\n",
    "    loss = 'binary_crossentropy',\n",
    "    metrics=['accuracy' , tf.keras.metrics.Precision(name='precision'),tf.keras.metrics.Recall(name='recall')]\n",
    ")"
   ]
  },
  {
   "cell_type": "code",
   "execution_count": 11,
   "metadata": {
    "id": "dSBVnn3GQxSE"
   },
   "outputs": [],
   "source": [
    "# Defining our callbacks \n",
    "checkpoint = tf.keras.callbacks.ModelCheckpoint(\"best_weights_res3.h5\",verbose=1,save_best_only=True,save_weights_only = True)\n",
    "# if false then it will save for every iteration\n",
    "\n",
    "early_stop = tf.keras.callbacks.EarlyStopping(patience=10)"
   ]
  },
  {
   "cell_type": "code",
   "execution_count": 12,
   "metadata": {
    "colab": {
     "base_uri": "https://localhost:8080/"
    },
    "id": "myQjU1HuQ4ks",
    "outputId": "efa34f31-9854-4f83-ec5f-7c8e192f015b"
   },
   "outputs": [
    {
     "name": "stdout",
     "output_type": "stream",
     "text": [
      "Epoch 1/60\n",
      "42/42 [==============================] - ETA: 0s - loss: 0.4815 - accuracy: 0.7770 - precision: 0.7997 - recall: 0.7352\n",
      "Epoch 00001: val_loss improved from inf to 43732.16406, saving model to best_weights_res3.h5\n",
      "42/42 [==============================] - 44s 615ms/step - loss: 0.4815 - accuracy: 0.7770 - precision: 0.7997 - recall: 0.7352 - val_loss: 43732.1641 - val_accuracy: 0.5078 - val_precision: 0.5078 - val_recall: 1.0000\n",
      "Epoch 2/60\n",
      "42/42 [==============================] - ETA: 0s - loss: 0.4201 - accuracy: 0.8095 - precision: 0.8887 - recall: 0.7047\n",
      "Epoch 00002: val_loss improved from 43732.16406 to 97.49271, saving model to best_weights_res3.h5\n",
      "42/42 [==============================] - 23s 537ms/step - loss: 0.4201 - accuracy: 0.8095 - precision: 0.8887 - recall: 0.7047 - val_loss: 97.4927 - val_accuracy: 0.5469 - val_precision: 0.5243 - val_recall: 0.8571\n",
      "Epoch 3/60\n",
      "42/42 [==============================] - ETA: 0s - loss: 0.3053 - accuracy: 0.8668 - precision: 0.9243 - recall: 0.7991\n",
      "Epoch 00003: val_loss improved from 97.49271 to 91.67520, saving model to best_weights_res3.h5\n",
      "42/42 [==============================] - 23s 544ms/step - loss: 0.3053 - accuracy: 0.8668 - precision: 0.9243 - recall: 0.7991 - val_loss: 91.6752 - val_accuracy: 0.5156 - val_precision: 0.5156 - val_recall: 1.0000\n",
      "Epoch 4/60\n",
      "42/42 [==============================] - ETA: 0s - loss: 0.2820 - accuracy: 0.8707 - precision: 0.9298 - recall: 0.8018\n",
      "Epoch 00004: val_loss improved from 91.67520 to 4.49651, saving model to best_weights_res3.h5\n",
      "42/42 [==============================] - 23s 545ms/step - loss: 0.2820 - accuracy: 0.8707 - precision: 0.9298 - recall: 0.8018 - val_loss: 4.4965 - val_accuracy: 0.6562 - val_precision: 0.6552 - val_recall: 0.6129\n",
      "Epoch 5/60\n",
      "42/42 [==============================] - ETA: 0s - loss: 0.2478 - accuracy: 0.8972 - precision: 0.9367 - recall: 0.8515\n",
      "Epoch 00005: val_loss improved from 4.49651 to 1.20605, saving model to best_weights_res3.h5\n",
      "42/42 [==============================] - 23s 552ms/step - loss: 0.2478 - accuracy: 0.8972 - precision: 0.9367 - recall: 0.8515 - val_loss: 1.2060 - val_accuracy: 0.6250 - val_precision: 0.5823 - val_recall: 0.7541\n",
      "Epoch 6/60\n",
      "42/42 [==============================] - ETA: 0s - loss: 0.1843 - accuracy: 0.9161 - precision: 0.9268 - recall: 0.9029\n",
      "Epoch 00006: val_loss did not improve from 1.20605\n",
      "42/42 [==============================] - 23s 543ms/step - loss: 0.1843 - accuracy: 0.9161 - precision: 0.9268 - recall: 0.9029 - val_loss: 4.8693 - val_accuracy: 0.5547 - val_precision: 0.5269 - val_recall: 0.7903\n",
      "Epoch 7/60\n",
      "42/42 [==============================] - ETA: 0s - loss: 0.1904 - accuracy: 0.9161 - precision: 0.9130 - recall: 0.9199\n",
      "Epoch 00007: val_loss did not improve from 1.20605\n",
      "42/42 [==============================] - 23s 538ms/step - loss: 0.1904 - accuracy: 0.9161 - precision: 0.9130 - recall: 0.9199 - val_loss: 2.1068 - val_accuracy: 0.5391 - val_precision: 0.7647 - val_recall: 0.1912\n",
      "Epoch 8/60\n",
      "42/42 [==============================] - ETA: 0s - loss: 0.1835 - accuracy: 0.9184 - precision: 0.9457 - recall: 0.8889\n",
      "Epoch 00008: val_loss did not improve from 1.20605\n",
      "42/42 [==============================] - 23s 541ms/step - loss: 0.1835 - accuracy: 0.9184 - precision: 0.9457 - recall: 0.8889 - val_loss: 3.4728 - val_accuracy: 0.6250 - val_precision: 0.5765 - val_recall: 0.8033\n",
      "Epoch 9/60\n",
      "42/42 [==============================] - ETA: 0s - loss: 0.1625 - accuracy: 0.9312 - precision: 0.9387 - recall: 0.9232\n",
      "Epoch 00009: val_loss did not improve from 1.20605\n",
      "42/42 [==============================] - 23s 548ms/step - loss: 0.1625 - accuracy: 0.9312 - precision: 0.9387 - recall: 0.9232 - val_loss: 2.5219 - val_accuracy: 0.7109 - val_precision: 0.7917 - val_recall: 0.5846\n",
      "Epoch 10/60\n",
      "42/42 [==============================] - ETA: 0s - loss: 0.1556 - accuracy: 0.9312 - precision: 0.9493 - recall: 0.9103\n",
      "Epoch 00010: val_loss did not improve from 1.20605\n",
      "42/42 [==============================] - 23s 540ms/step - loss: 0.1556 - accuracy: 0.9312 - precision: 0.9493 - recall: 0.9103 - val_loss: 7.2216 - val_accuracy: 0.5859 - val_precision: 0.5657 - val_recall: 0.8485\n",
      "Epoch 11/60\n",
      "42/42 [==============================] - ETA: 0s - loss: 0.1382 - accuracy: 0.9327 - precision: 0.9325 - recall: 0.9339\n",
      "Epoch 00011: val_loss improved from 1.20605 to 0.89158, saving model to best_weights_res3.h5\n",
      "42/42 [==============================] - 23s 548ms/step - loss: 0.1382 - accuracy: 0.9327 - precision: 0.9325 - recall: 0.9339 - val_loss: 0.8916 - val_accuracy: 0.7500 - val_precision: 0.7460 - val_recall: 0.7460\n",
      "Epoch 12/60\n",
      "42/42 [==============================] - ETA: 0s - loss: 0.1006 - accuracy: 0.9546 - precision: 0.9733 - recall: 0.9350\n",
      "Epoch 00012: val_loss did not improve from 0.89158\n",
      "42/42 [==============================] - 23s 542ms/step - loss: 0.1006 - accuracy: 0.9546 - precision: 0.9733 - recall: 0.9350 - val_loss: 1.2799 - val_accuracy: 0.8125 - val_precision: 0.8793 - val_recall: 0.7500\n",
      "Epoch 13/60\n",
      "42/42 [==============================] - ETA: 0s - loss: 0.1129 - accuracy: 0.9486 - precision: 0.9454 - recall: 0.9511\n",
      "Epoch 00013: val_loss did not improve from 0.89158\n",
      "42/42 [==============================] - 23s 543ms/step - loss: 0.1129 - accuracy: 0.9486 - precision: 0.9454 - recall: 0.9511 - val_loss: 3.5491 - val_accuracy: 0.5703 - val_precision: 0.5789 - val_recall: 0.6567\n",
      "Epoch 14/60\n",
      "42/42 [==============================] - ETA: 0s - loss: 0.1319 - accuracy: 0.9350 - precision: 0.9405 - recall: 0.9291\n",
      "Epoch 00014: val_loss did not improve from 0.89158\n",
      "42/42 [==============================] - 23s 543ms/step - loss: 0.1319 - accuracy: 0.9350 - precision: 0.9405 - recall: 0.9291 - val_loss: 1.0316 - val_accuracy: 0.7344 - val_precision: 0.7027 - val_recall: 0.8125\n",
      "Epoch 15/60\n",
      "42/42 [==============================] - ETA: 0s - loss: 0.1069 - accuracy: 0.9546 - precision: 0.9587 - recall: 0.9499\n",
      "Epoch 00015: val_loss did not improve from 0.89158\n",
      "42/42 [==============================] - 23s 546ms/step - loss: 0.1069 - accuracy: 0.9546 - precision: 0.9587 - recall: 0.9499 - val_loss: 0.9824 - val_accuracy: 0.7422 - val_precision: 0.7544 - val_recall: 0.6935\n",
      "Epoch 16/60\n",
      "42/42 [==============================] - ETA: 0s - loss: 0.1123 - accuracy: 0.9516 - precision: 0.9476 - recall: 0.9562\n",
      "Epoch 00016: val_loss did not improve from 0.89158\n",
      "42/42 [==============================] - 23s 537ms/step - loss: 0.1123 - accuracy: 0.9516 - precision: 0.9476 - recall: 0.9562 - val_loss: 2.3116 - val_accuracy: 0.6406 - val_precision: 0.9500 - val_recall: 0.2969\n",
      "Epoch 17/60\n",
      "42/42 [==============================] - ETA: 0s - loss: 0.0716 - accuracy: 0.9690 - precision: 0.9814 - recall: 0.9562\n",
      "Epoch 00017: val_loss did not improve from 0.89158\n",
      "42/42 [==============================] - 23s 547ms/step - loss: 0.0716 - accuracy: 0.9690 - precision: 0.9814 - recall: 0.9562 - val_loss: 1.3958 - val_accuracy: 0.7578 - val_precision: 1.0000 - val_recall: 0.5303\n",
      "Epoch 18/60\n",
      "42/42 [==============================] - ETA: 0s - loss: 0.0614 - accuracy: 0.9751 - precision: 0.9674 - recall: 0.9834\n",
      "Epoch 00018: val_loss did not improve from 0.89158\n",
      "42/42 [==============================] - 23s 543ms/step - loss: 0.0614 - accuracy: 0.9751 - precision: 0.9674 - recall: 0.9834 - val_loss: 1.2911 - val_accuracy: 0.7656 - val_precision: 1.0000 - val_recall: 0.5588\n",
      "Epoch 19/60\n",
      "42/42 [==============================] - ETA: 0s - loss: 0.0961 - accuracy: 0.9667 - precision: 0.9666 - recall: 0.9666\n",
      "Epoch 00019: val_loss did not improve from 0.89158\n",
      "42/42 [==============================] - 23s 538ms/step - loss: 0.0961 - accuracy: 0.9667 - precision: 0.9666 - recall: 0.9666 - val_loss: 1.6201 - val_accuracy: 0.7578 - val_precision: 0.7073 - val_recall: 0.8923\n",
      "Epoch 20/60\n",
      "42/42 [==============================] - ETA: 0s - loss: 0.1084 - accuracy: 0.9577 - precision: 0.9679 - recall: 0.9476\n",
      "Epoch 00020: val_loss improved from 0.89158 to 0.50811, saving model to best_weights_res3.h5\n",
      "42/42 [==============================] - 23s 549ms/step - loss: 0.1084 - accuracy: 0.9577 - precision: 0.9679 - recall: 0.9476 - val_loss: 0.5081 - val_accuracy: 0.8750 - val_precision: 0.9000 - val_recall: 0.8438\n",
      "Epoch 21/60\n",
      "42/42 [==============================] - ETA: 0s - loss: 0.0750 - accuracy: 0.9690 - precision: 0.9598 - recall: 0.9787\n",
      "Epoch 00021: val_loss did not improve from 0.50811\n",
      "42/42 [==============================] - 23s 544ms/step - loss: 0.0750 - accuracy: 0.9690 - precision: 0.9598 - recall: 0.9787 - val_loss: 2.0244 - val_accuracy: 0.7266 - val_precision: 0.9677 - val_recall: 0.4688\n",
      "Epoch 22/60\n",
      "42/42 [==============================] - ETA: 0s - loss: 0.0416 - accuracy: 0.9826 - precision: 0.9863 - recall: 0.9788\n",
      "Epoch 00022: val_loss did not improve from 0.50811\n",
      "42/42 [==============================] - 23s 547ms/step - loss: 0.0416 - accuracy: 0.9826 - precision: 0.9863 - recall: 0.9788 - val_loss: 3.1609 - val_accuracy: 0.6484 - val_precision: 1.0000 - val_recall: 0.2857\n",
      "Epoch 23/60\n",
      "42/42 [==============================] - ETA: 0s - loss: 0.0630 - accuracy: 0.9792 - precision: 0.9708 - recall: 0.9881\n",
      "Epoch 00023: val_loss did not improve from 0.50811\n",
      "42/42 [==============================] - 23s 547ms/step - loss: 0.0630 - accuracy: 0.9792 - precision: 0.9708 - recall: 0.9881 - val_loss: 0.9576 - val_accuracy: 0.8672 - val_precision: 0.9583 - val_recall: 0.7541\n",
      "Epoch 24/60\n",
      "42/42 [==============================] - ETA: 0s - loss: 0.0595 - accuracy: 0.9803 - precision: 0.9746 - recall: 0.9864\n",
      "Epoch 00024: val_loss did not improve from 0.50811\n",
      "42/42 [==============================] - 23s 541ms/step - loss: 0.0595 - accuracy: 0.9803 - precision: 0.9746 - recall: 0.9864 - val_loss: 1.3311 - val_accuracy: 0.6875 - val_precision: 0.7018 - val_recall: 0.6349\n",
      "Epoch 25/60\n",
      "42/42 [==============================] - ETA: 0s - loss: 0.1281 - accuracy: 0.9471 - precision: 0.9469 - recall: 0.9469\n",
      "Epoch 00025: val_loss did not improve from 0.50811\n",
      "42/42 [==============================] - 23s 545ms/step - loss: 0.1281 - accuracy: 0.9471 - precision: 0.9469 - recall: 0.9469 - val_loss: 3.0086 - val_accuracy: 0.6953 - val_precision: 0.6818 - val_recall: 0.7143\n",
      "Epoch 26/60\n",
      "42/42 [==============================] - ETA: 0s - loss: 0.0852 - accuracy: 0.9713 - precision: 0.9697 - recall: 0.9727\n",
      "Epoch 00026: val_loss did not improve from 0.50811\n",
      "42/42 [==============================] - 23s 540ms/step - loss: 0.0852 - accuracy: 0.9713 - precision: 0.9697 - recall: 0.9727 - val_loss: 1.3958 - val_accuracy: 0.8281 - val_precision: 0.9388 - val_recall: 0.7077\n",
      "Epoch 27/60\n",
      "42/42 [==============================] - ETA: 0s - loss: 0.0492 - accuracy: 0.9796 - precision: 0.9787 - recall: 0.9802\n",
      "Epoch 00027: val_loss did not improve from 0.50811\n",
      "42/42 [==============================] - 23s 548ms/step - loss: 0.0492 - accuracy: 0.9796 - precision: 0.9787 - recall: 0.9802 - val_loss: 1.6480 - val_accuracy: 0.7656 - val_precision: 1.0000 - val_recall: 0.5385\n",
      "Epoch 28/60\n",
      "42/42 [==============================] - ETA: 0s - loss: 0.0816 - accuracy: 0.9675 - precision: 0.9641 - recall: 0.9713\n",
      "Epoch 00028: val_loss did not improve from 0.50811\n",
      "42/42 [==============================] - 23s 537ms/step - loss: 0.0816 - accuracy: 0.9675 - precision: 0.9641 - recall: 0.9713 - val_loss: 3.2918 - val_accuracy: 0.7109 - val_precision: 0.8947 - val_recall: 0.5075\n",
      "Epoch 29/60\n",
      "42/42 [==============================] - ETA: 0s - loss: 0.1424 - accuracy: 0.9388 - precision: 0.9393 - recall: 0.9379\n",
      "Epoch 00029: val_loss did not improve from 0.50811\n",
      "42/42 [==============================] - 23s 548ms/step - loss: 0.1424 - accuracy: 0.9388 - precision: 0.9393 - recall: 0.9379 - val_loss: 1.0080 - val_accuracy: 0.7266 - val_precision: 0.9167 - val_recall: 0.5077\n",
      "Epoch 30/60\n",
      "42/42 [==============================] - ETA: 0s - loss: 0.0910 - accuracy: 0.9683 - precision: 0.9669 - recall: 0.9698\n",
      "Epoch 00030: val_loss did not improve from 0.50811\n",
      "42/42 [==============================] - 23s 539ms/step - loss: 0.0910 - accuracy: 0.9683 - precision: 0.9669 - recall: 0.9698 - val_loss: 1.3012 - val_accuracy: 0.8281 - val_precision: 0.9038 - val_recall: 0.7344\n"
     ]
    }
   ],
   "source": [
    "# Train the model\n",
    "history = model.fit(\n",
    "    train_generator,\n",
    "    steps_per_epoch=train_generator.samples // batch_size,\n",
    "    epochs=60,\n",
    "    callbacks=[checkpoint, early_stop],\n",
    "    validation_data=validation_generator,\n",
    "    validation_steps = validation_generator.samples // batch_size,\n",
    ")"
   ]
  },
  {
   "cell_type": "markdown",
   "metadata": {},
   "source": [
    "    42/42 [==============================] - 23s 549ms/step - loss: 0.1084 - accuracy: 0.9577 - precision: 0.9679 - \n",
    "    recall: 0.9476 - val_loss: 0.5081 - val_accuracy: 0.8750 - val_precision: 0.9000 - val_recall: 0.8438"
   ]
  },
  {
   "cell_type": "code",
   "execution_count": 3,
   "metadata": {},
   "outputs": [],
   "source": [
    "prect = 0.9000\n",
    "rect = 0.8438"
   ]
  },
  {
   "cell_type": "code",
   "execution_count": 4,
   "metadata": {},
   "outputs": [
    {
     "data": {
      "text/plain": [
       "0.8709943800894597"
      ]
     },
     "execution_count": 4,
     "metadata": {},
     "output_type": "execute_result"
    }
   ],
   "source": [
    "F1t = 2*((prect*rect)/(prect+rect))\n",
    "F1t"
   ]
  },
  {
   "cell_type": "code",
   "execution_count": null,
   "metadata": {
    "id": "mHIsbapPREfX"
   },
   "outputs": [],
   "source": [
    "# Interpreting the Metrics \n",
    "fig, ax = plt.subplots(1, 4, figsize=(20, 3))\n",
    "ax = ax.ravel()\n",
    "\n",
    "for i, met in enumerate(['precision', 'recall', 'accuracy', 'loss']):\n",
    "    ax[i].plot(history.history[met])\n",
    "    ax[i].plot(history.history['val_' + met])\n",
    "    ax[i].set_title('Model {}'.format(met))\n",
    "    ax[i].set_xlabel('epochs')\n",
    "    ax[i].set_ylabel(met)\n",
    "    ax[i].legend(['train', 'val'])"
   ]
  },
  {
   "cell_type": "code",
   "execution_count": 13,
   "metadata": {
    "colab": {
     "base_uri": "https://localhost:8080/"
    },
    "id": "FnX8rdC1WEeQ",
    "outputId": "cae5dec3-80b4-4ff0-aba5-36fc325bc722"
   },
   "outputs": [
    {
     "name": "stderr",
     "output_type": "stream",
     "text": [
      "/usr/local/lib/python3.7/dist-packages/keras/engine/functional.py:1410: CustomMaskWarning: Custom mask layers require a config and must override get_config. When loading, the custom mask layer must be passed to the custom_objects argument.\n",
      "  layer_config = serialize_layer_fn(layer)\n"
     ]
    }
   ],
   "source": [
    "# Saving the best Model\n",
    "\n",
    "# Load the best weights\n",
    "model.load_weights(\"best_weights_res3.h5\")\n",
    "# Save the whole model (weigths + architecture)\n",
    "\n",
    "model.save(\"model_res3.h5\")"
   ]
  },
  {
   "cell_type": "code",
   "execution_count": 14,
   "metadata": {
    "id": "-I3KWgvL7p3u"
   },
   "outputs": [],
   "source": [
    "# Loading the whole model\n",
    "loaded_model = tf.keras.models.load_model(\"model_res3.h5\")"
   ]
  },
  {
   "cell_type": "code",
   "execution_count": 15,
   "metadata": {
    "id": "OuI6m5DRBAdj"
   },
   "outputs": [],
   "source": [
    "test_data_dir= Path(\"/content/Dataset_3_channel/Test\")"
   ]
  },
  {
   "cell_type": "code",
   "execution_count": 16,
   "metadata": {
    "id": "FAW7aXxvBIHL"
   },
   "outputs": [],
   "source": [
    "test_datagen = ImageDataGenerator(rescale=1./255, validation_split=0)"
   ]
  },
  {
   "cell_type": "code",
   "execution_count": 19,
   "metadata": {
    "colab": {
     "base_uri": "https://localhost:8080/"
    },
    "id": "DzW56HSaBPCq",
    "outputId": "a0b7302a-45c8-4187-b28e-c83471e9f5a4"
   },
   "outputs": [
    {
     "name": "stdout",
     "output_type": "stream",
     "text": [
      "Found 320 images belonging to 2 classes.\n"
     ]
    }
   ],
   "source": [
    "test_generator = test_datagen.flow_from_directory(\n",
    "    test_data_dir,\n",
    "    target_size=(img_height, img_width),\n",
    "    batch_size=1,\n",
    "    class_mode='binary',\n",
    "    subset='training')"
   ]
  },
  {
   "cell_type": "code",
   "execution_count": 21,
   "metadata": {
    "colab": {
     "base_uri": "https://localhost:8080/"
    },
    "id": "siMVzf8zV3Bq",
    "outputId": "43e3966e-aa78-4ec3-d48c-26c4aba6f0fc"
   },
   "outputs": [
    {
     "name": "stdout",
     "output_type": "stream",
     "text": [
      "320/320 [==============================] - 8s 18ms/step - loss: 0.5568 - accuracy: 0.8188 - precision: 0.7602 - recall: 0.9312\n",
      " Testing Acc :  0.8187500238418579\n",
      " Testing Precision  0.7602040767669678\n",
      " Testing Recall  0.9312499761581421\n"
     ]
    }
   ],
   "source": [
    "# Evaluating the loaded model\n",
    "loss, acc, prec, rec = loaded_model.evaluate(test_generator)\n",
    "\n",
    "print(\" Testing Acc : \" , acc)\n",
    "print(\" Testing Precision \" , prec)\n",
    "print(\" Testing Recall \" , rec)"
   ]
  },
  {
   "cell_type": "code",
   "execution_count": 5,
   "metadata": {
    "id": "QPn5SuSnV9vQ"
   },
   "outputs": [
    {
     "data": {
      "text/plain": [
       "0.8370559772969138"
      ]
     },
     "execution_count": 5,
     "metadata": {},
     "output_type": "execute_result"
    }
   ],
   "source": [
    "p = 0.7602\n",
    "r = 0.9312\n",
    "F1 = 2*((p*r)/(p+r))\n",
    "F1"
   ]
  },
  {
   "cell_type": "code",
   "execution_count": null,
   "metadata": {},
   "outputs": [],
   "source": []
  }
 ],
 "metadata": {
  "accelerator": "GPU",
  "colab": {
   "collapsed_sections": [],
   "name": "resnet_3channel",
   "provenance": []
  },
  "kernelspec": {
   "display_name": "Python 3 (ipykernel)",
   "language": "python",
   "name": "python3"
  },
  "language_info": {
   "codemirror_mode": {
    "name": "ipython",
    "version": 3
   },
   "file_extension": ".py",
   "mimetype": "text/x-python",
   "name": "python",
   "nbconvert_exporter": "python",
   "pygments_lexer": "ipython3",
   "version": "3.8.11"
  }
 },
 "nbformat": 4,
 "nbformat_minor": 1
}
